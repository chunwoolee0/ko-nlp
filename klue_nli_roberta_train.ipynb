{
 "cells": [
  {
   "cell_type": "markdown",
   "source": [
    "## HuggingFace Transformers를 활용한 문장 분류 모델 학습\n",
    "본 노트북에서는 klue/roberta-base 모델을 KLUE 내 NLI 데이터셋을 활용하여 모델을 훈련하는 예제를 다루게 됩니다.\n",
    "\n",
    "학습을 통해 얻어질 klue-roberta-base-nli 모델은 입력된 두 문장의 추론 관계를 예측하는데 사용할 수 있게 됩니다.\n",
    "\n",
    "학습 과정 이후에는 간단한 예제 코드를 통해 모델이 어떻게 활용되는지도 함께 알아보도록 할 것입니다.\n",
    "\n",
    "모든 소스 코드는 huggingface-notebooks를 참고하였습니다.\n",
    "\n",
    "먼저, 노트북을 실행하는데 필요한 라이브러리를 설치합니다. 모델 훈련을 위해서는 transformers가, 학습 데이터셋 로드를 위해서는 datasets 라이브러리의 설치가 필요합니다. 그 외 모델 성능 검증을 위해 scipy, scikit-learn을 추가로 설치해주도록 합니다."
   ],
   "metadata": {
    "collapsed": false
   }
  },
  {
   "cell_type": "code",
   "execution_count": null,
   "outputs": [],
   "source": [
    "from google.colab import drive\n",
    "drive.mount('/gdrive',force_remount=True)"
   ],
   "metadata": {
    "collapsed": false
   }
  },
  {
   "cell_type": "code",
   "execution_count": null,
   "outputs": [],
   "source": [
    "!pip install accelerate -U"
   ],
   "metadata": {
    "collapsed": false
   }
  },
  {
   "cell_type": "code",
   "execution_count": null,
   "outputs": [],
   "source": [
    "!pip install transformers datasets evaluate"
   ],
   "metadata": {
    "collapsed": false
   }
  },
  {
   "cell_type": "code",
   "execution_count": null,
   "outputs": [],
   "source": [
    "!pip install huggingface_hub"
   ],
   "metadata": {
    "collapsed": false
   }
  },
  {
   "cell_type": "code",
   "execution_count": null,
   "outputs": [],
   "source": [
    "from huggingface_hub import notebook_login\n",
    "notebook_login()"
   ],
   "metadata": {
    "collapsed": false
   }
  },
  {
   "cell_type": "code",
   "execution_count": 38,
   "outputs": [],
   "source": [
    "import random\n",
    "import logging\n",
    "from IPython.display import display, HTML\n",
    "import numpy as np\n",
    "import pandas as pd\n",
    "import datasets\n",
    "from datasets import load_dataset, load_metric,ClassLabel, Sequence\n",
    "from transformers import AutoTokenizer, AutoModelForSequenceClassification, TrainingArguments, Trainer"
   ],
   "metadata": {
    "collapsed": false,
    "ExecuteTime": {
     "end_time": "2023-07-18T04:42:29.822276300Z",
     "start_time": "2023-07-18T04:42:29.814271300Z"
    }
   }
  },
  {
   "cell_type": "code",
   "execution_count": 39,
   "outputs": [],
   "source": [
    "model_ckpt = \"klue/roberta-base\"\n",
    "batch_size = 32\n",
    "task = \"nli\""
   ],
   "metadata": {
    "collapsed": false,
    "ExecuteTime": {
     "end_time": "2023-07-18T04:42:33.027099900Z",
     "start_time": "2023-07-18T04:42:33.012139800Z"
    }
   }
  },
  {
   "cell_type": "code",
   "execution_count": 41,
   "outputs": [
    {
     "name": "stderr",
     "output_type": "stream",
     "text": [
      "Found cached dataset klue (C:/Users/clee/.cache/huggingface/datasets/klue/nli/1.0.0/e0fc3bc3de3eb03be2c92d72fd04a60ecc71903f821619cb28ca0e1e29e4233e)\n"
     ]
    },
    {
     "data": {
      "text/plain": "  0%|          | 0/2 [00:00<?, ?it/s]",
      "application/vnd.jupyter.widget-view+json": {
       "version_major": 2,
       "version_minor": 0,
       "model_id": "fbbad5832af84536aaddd3e42157dd13"
      }
     },
     "metadata": {},
     "output_type": "display_data"
    }
   ],
   "source": [
    "datasets = load_dataset(\"klue\",task)"
   ],
   "metadata": {
    "collapsed": false,
    "ExecuteTime": {
     "end_time": "2023-07-18T04:43:18.830103800Z",
     "start_time": "2023-07-18T04:43:16.628251800Z"
    }
   }
  },
  {
   "cell_type": "code",
   "execution_count": 53,
   "outputs": [
    {
     "data": {
      "text/plain": "                       guid     source  \\\n0   klue-nli-v1_train_00000       NSMC   \n1   klue-nli-v1_train_00001       NSMC   \n2   klue-nli-v1_train_00002       NSMC   \n3   klue-nli-v1_train_00003       NSMC   \n4   klue-nli-v1_train_00004     airbnb   \n5   klue-nli-v1_train_00005     airbnb   \n6   klue-nli-v1_train_00006     airbnb   \n7   klue-nli-v1_train_00007  wikipedia   \n8   klue-nli-v1_train_00008  wikipedia   \n9   klue-nli-v1_train_00009  wikipedia   \n10  klue-nli-v1_train_00010  wikipedia   \n11  klue-nli-v1_train_00011  wikipedia   \n12  klue-nli-v1_train_00012  wikipedia   \n13  klue-nli-v1_train_00013  wikipedia   \n14  klue-nli-v1_train_00014  wikipedia   \n15  klue-nli-v1_train_00015  wikipedia   \n16  klue-nli-v1_train_00016  wikipedia   \n17  klue-nli-v1_train_00017  wikipedia   \n18  klue-nli-v1_train_00018  wikipedia   \n19  klue-nli-v1_train_00019       NSMC   \n20  klue-nli-v1_train_00020       NSMC   \n21  klue-nli-v1_train_00021       NSMC   \n22  klue-nli-v1_train_00022     airbnb   \n23  klue-nli-v1_train_00023     airbnb   \n24  klue-nli-v1_train_00024     airbnb   \n25  klue-nli-v1_train_00025  wikipedia   \n26  klue-nli-v1_train_00026  wikipedia   \n27  klue-nli-v1_train_00027  wikipedia   \n28  klue-nli-v1_train_00028       NSMC   \n29  klue-nli-v1_train_00029       NSMC   \n\n                                              premise  \\\n0                            힛걸 진심 최고다 그 어떤 히어로보다 멋지다   \n1                             100분간 잘껄 그래도 소닉붐땜에 2점준다   \n2                             100분간 잘껄 그래도 소닉붐땜에 2점준다   \n3                             100분간 잘껄 그래도 소닉붐땜에 2점준다   \n4                            101빌딩 근처에 나름 즐길거리가 많습니다.   \n5                            101빌딩 근처에 나름 즐길거리가 많습니다.   \n6                            101빌딩 근처에 나름 즐길거리가 많습니다.   \n7   10년 만에 찾는 피터를 웬디는 따뜻하게 맞이하고 피터는 성공리에 연설을 마치는데 ...   \n8   10년 만에 찾는 피터를 웬디는 따뜻하게 맞이하고 피터는 성공리에 연설을 마치는데 ...   \n9   10년 만에 찾는 피터를 웬디는 따뜻하게 맞이하고 피터는 성공리에 연설을 마치는데 ...   \n10  10년 전 한 병원에서 입원 중인 한 소녀가 실종되는 사건이 일어나지만, 목격자도 ...   \n11  10년 전 한 병원에서 입원 중인 한 소녀가 실종되는 사건이 일어나지만, 목격자도 ...   \n12  10년 전 한 병원에서 입원 중인 한 소녀가 실종되는 사건이 일어나지만, 목격자도 ...   \n13  10년 전, 공동육아를 매개로 성미산 마을에 들어와 산 강석필, 홍형숙 부부는 맥가...   \n14  10년 전, 공동육아를 매개로 성미산 마을에 들어와 산 강석필, 홍형숙 부부는 맥가...   \n15  10년 전, 공동육아를 매개로 성미산 마을에 들어와 산 강석필, 홍형숙 부부는 맥가...   \n16  10년 후, 16살이 된 사쿠라코는 주위의 반대를 무릅쓰고 도쿄음악학교 진학을 희망한다.   \n17  10년 후, 16살이 된 사쿠라코는 주위의 반대를 무릅쓰고 도쿄음악학교 진학을 희망한다.   \n18  10년 후, 16살이 된 사쿠라코는 주위의 반대를 무릅쓰고 도쿄음악학교 진학을 희망한다.   \n19                             10년전 나를 매료시켰던 묘하고 멋진영화   \n20                             10년전 나를 매료시켰던 묘하고 멋진영화   \n21                             10년전 나를 매료시켰던 묘하고 멋진영화   \n22                            10분내외 주변에 마트가 3곳이 있습니다.   \n23                            10분내외 주변에 마트가 3곳이 있습니다.   \n24                            10분내외 주변에 마트가 3곳이 있습니다.   \n25  10살 소년 우주는 어느 날 집 대청소를 하던 중 천재 과학자인 할아버지, 용이 남...   \n26  10살 소년 우주는 어느 날 집 대청소를 하던 중 천재 과학자인 할아버지, 용이 남...   \n27  10살 소년 우주는 어느 날 집 대청소를 하던 중 천재 과학자인 할아버지, 용이 남...   \n28                         10억점 주고싶은 영화퍼스 참을 수 없는 그리움   \n29                         10억점 주고싶은 영화퍼스 참을 수 없는 그리움   \n\n                                  hypothesis  label     label_name  \n0                             힛걸 진심 최고로 멋지다.      0     entailment  \n1                                  100분간 잤다.      2  contradiction  \n2                              소닉붐이 정말 멋있었다.      1        neutral  \n3                      100분간 자는게 더 나았을 것 같다.      1        neutral  \n4                 101빌딩 근처에서 즐길거리 찾기는 어렵습니다.      2  contradiction  \n5                101빌딩 주변에 젊은이들이 즐길거리가 많습니다.      1        neutral  \n6                101빌딩 부근에서는 여러가지를 즐길수 있습니다.      0     entailment  \n7                          웬디는 피터를 차갑게 맞이했다.      2  contradiction  \n8                       잭과 매기는 피터 배닝의 동생들이다.      1        neutral  \n9                       피터 배닝, 잭, 매기는 남매사이다.      0     entailment  \n10         병원에서 실종된 소녀는 경찰들의 수사덕에 하루만에 돌아온다.      2  contradiction  \n11              10년 전 한 병원에서 입원 중인 소녀가 실종된다.      0     entailment  \n12   10년 후 과학 기술이 발달되어 10년전 찾지 못했던 소녀를 찾게된다.      1        neutral  \n13       강석필, 홍형숙 부부가 성미산 마을에 들어온 이유는 요양이었다.      2  contradiction  \n14          강석필, 홍형숙 부부는 마을에서 좋은 평판을 가지고 있다.      1        neutral  \n15       강석필, 홍형숙 부부가 성미산 마을에 들어온 것은 10년전이다.      0     entailment  \n16               사쿠라코는 어릴 때부터 음악학교 진학을 꿈꿔왔다.      1        neutral  \n17                      사쿠라코는 음악학교 진학을 희망한다.      0     entailment  \n18  사쿠라코의 주위는 사쿠라코가 도쿄음악학교에 진학하는 것을 적극 찬성한다.      2  contradiction  \n19                       10년 전에 나를 실망시켰던 영화.      2  contradiction  \n20                           옛날에 나를 사로잡은 영화.      0     entailment  \n21                        나를 매료시켰던 묘한 인디 영화.      1        neutral  \n22                     가장 큰 마트는 가장 가까이 있습니다.      1        neutral  \n23                            가까이에 마트가 있습니다.      0     entailment  \n24                      30분 거리 내에는 음식점 뿐입니다.      1        neutral  \n25                       우주는 천재 과학자 용의 손녀이다.      2  contradiction  \n26                   천재 과학자 용의 전문분야는 물리역학이다.      1        neutral  \n27                     우주의 할아버지 용은 천재 과학자이다.      0     entailment  \n28                     퍼스 참을 수 없는 그리움은 드라마다.      2  contradiction  \n29        퍼스 참을 수 없는 그리움에 평점은 10점밖에 줄 수 없었다.      1        neutral  ",
      "text/html": "<div>\n<style scoped>\n    .dataframe tbody tr th:only-of-type {\n        vertical-align: middle;\n    }\n\n    .dataframe tbody tr th {\n        vertical-align: top;\n    }\n\n    .dataframe thead th {\n        text-align: right;\n    }\n</style>\n<table border=\"1\" class=\"dataframe\">\n  <thead>\n    <tr style=\"text-align: right;\">\n      <th></th>\n      <th>guid</th>\n      <th>source</th>\n      <th>premise</th>\n      <th>hypothesis</th>\n      <th>label</th>\n      <th>label_name</th>\n    </tr>\n  </thead>\n  <tbody>\n    <tr>\n      <th>0</th>\n      <td>klue-nli-v1_train_00000</td>\n      <td>NSMC</td>\n      <td>힛걸 진심 최고다 그 어떤 히어로보다 멋지다</td>\n      <td>힛걸 진심 최고로 멋지다.</td>\n      <td>0</td>\n      <td>entailment</td>\n    </tr>\n    <tr>\n      <th>1</th>\n      <td>klue-nli-v1_train_00001</td>\n      <td>NSMC</td>\n      <td>100분간 잘껄 그래도 소닉붐땜에 2점준다</td>\n      <td>100분간 잤다.</td>\n      <td>2</td>\n      <td>contradiction</td>\n    </tr>\n    <tr>\n      <th>2</th>\n      <td>klue-nli-v1_train_00002</td>\n      <td>NSMC</td>\n      <td>100분간 잘껄 그래도 소닉붐땜에 2점준다</td>\n      <td>소닉붐이 정말 멋있었다.</td>\n      <td>1</td>\n      <td>neutral</td>\n    </tr>\n    <tr>\n      <th>3</th>\n      <td>klue-nli-v1_train_00003</td>\n      <td>NSMC</td>\n      <td>100분간 잘껄 그래도 소닉붐땜에 2점준다</td>\n      <td>100분간 자는게 더 나았을 것 같다.</td>\n      <td>1</td>\n      <td>neutral</td>\n    </tr>\n    <tr>\n      <th>4</th>\n      <td>klue-nli-v1_train_00004</td>\n      <td>airbnb</td>\n      <td>101빌딩 근처에 나름 즐길거리가 많습니다.</td>\n      <td>101빌딩 근처에서 즐길거리 찾기는 어렵습니다.</td>\n      <td>2</td>\n      <td>contradiction</td>\n    </tr>\n    <tr>\n      <th>5</th>\n      <td>klue-nli-v1_train_00005</td>\n      <td>airbnb</td>\n      <td>101빌딩 근처에 나름 즐길거리가 많습니다.</td>\n      <td>101빌딩 주변에 젊은이들이 즐길거리가 많습니다.</td>\n      <td>1</td>\n      <td>neutral</td>\n    </tr>\n    <tr>\n      <th>6</th>\n      <td>klue-nli-v1_train_00006</td>\n      <td>airbnb</td>\n      <td>101빌딩 근처에 나름 즐길거리가 많습니다.</td>\n      <td>101빌딩 부근에서는 여러가지를 즐길수 있습니다.</td>\n      <td>0</td>\n      <td>entailment</td>\n    </tr>\n    <tr>\n      <th>7</th>\n      <td>klue-nli-v1_train_00007</td>\n      <td>wikipedia</td>\n      <td>10년 만에 찾는 피터를 웬디는 따뜻하게 맞이하고 피터는 성공리에 연설을 마치는데 ...</td>\n      <td>웬디는 피터를 차갑게 맞이했다.</td>\n      <td>2</td>\n      <td>contradiction</td>\n    </tr>\n    <tr>\n      <th>8</th>\n      <td>klue-nli-v1_train_00008</td>\n      <td>wikipedia</td>\n      <td>10년 만에 찾는 피터를 웬디는 따뜻하게 맞이하고 피터는 성공리에 연설을 마치는데 ...</td>\n      <td>잭과 매기는 피터 배닝의 동생들이다.</td>\n      <td>1</td>\n      <td>neutral</td>\n    </tr>\n    <tr>\n      <th>9</th>\n      <td>klue-nli-v1_train_00009</td>\n      <td>wikipedia</td>\n      <td>10년 만에 찾는 피터를 웬디는 따뜻하게 맞이하고 피터는 성공리에 연설을 마치는데 ...</td>\n      <td>피터 배닝, 잭, 매기는 남매사이다.</td>\n      <td>0</td>\n      <td>entailment</td>\n    </tr>\n    <tr>\n      <th>10</th>\n      <td>klue-nli-v1_train_00010</td>\n      <td>wikipedia</td>\n      <td>10년 전 한 병원에서 입원 중인 한 소녀가 실종되는 사건이 일어나지만, 목격자도 ...</td>\n      <td>병원에서 실종된 소녀는 경찰들의 수사덕에 하루만에 돌아온다.</td>\n      <td>2</td>\n      <td>contradiction</td>\n    </tr>\n    <tr>\n      <th>11</th>\n      <td>klue-nli-v1_train_00011</td>\n      <td>wikipedia</td>\n      <td>10년 전 한 병원에서 입원 중인 한 소녀가 실종되는 사건이 일어나지만, 목격자도 ...</td>\n      <td>10년 전 한 병원에서 입원 중인 소녀가 실종된다.</td>\n      <td>0</td>\n      <td>entailment</td>\n    </tr>\n    <tr>\n      <th>12</th>\n      <td>klue-nli-v1_train_00012</td>\n      <td>wikipedia</td>\n      <td>10년 전 한 병원에서 입원 중인 한 소녀가 실종되는 사건이 일어나지만, 목격자도 ...</td>\n      <td>10년 후 과학 기술이 발달되어 10년전 찾지 못했던 소녀를 찾게된다.</td>\n      <td>1</td>\n      <td>neutral</td>\n    </tr>\n    <tr>\n      <th>13</th>\n      <td>klue-nli-v1_train_00013</td>\n      <td>wikipedia</td>\n      <td>10년 전, 공동육아를 매개로 성미산 마을에 들어와 산 강석필, 홍형숙 부부는 맥가...</td>\n      <td>강석필, 홍형숙 부부가 성미산 마을에 들어온 이유는 요양이었다.</td>\n      <td>2</td>\n      <td>contradiction</td>\n    </tr>\n    <tr>\n      <th>14</th>\n      <td>klue-nli-v1_train_00014</td>\n      <td>wikipedia</td>\n      <td>10년 전, 공동육아를 매개로 성미산 마을에 들어와 산 강석필, 홍형숙 부부는 맥가...</td>\n      <td>강석필, 홍형숙 부부는 마을에서 좋은 평판을 가지고 있다.</td>\n      <td>1</td>\n      <td>neutral</td>\n    </tr>\n    <tr>\n      <th>15</th>\n      <td>klue-nli-v1_train_00015</td>\n      <td>wikipedia</td>\n      <td>10년 전, 공동육아를 매개로 성미산 마을에 들어와 산 강석필, 홍형숙 부부는 맥가...</td>\n      <td>강석필, 홍형숙 부부가 성미산 마을에 들어온 것은 10년전이다.</td>\n      <td>0</td>\n      <td>entailment</td>\n    </tr>\n    <tr>\n      <th>16</th>\n      <td>klue-nli-v1_train_00016</td>\n      <td>wikipedia</td>\n      <td>10년 후, 16살이 된 사쿠라코는 주위의 반대를 무릅쓰고 도쿄음악학교 진학을 희망한다.</td>\n      <td>사쿠라코는 어릴 때부터 음악학교 진학을 꿈꿔왔다.</td>\n      <td>1</td>\n      <td>neutral</td>\n    </tr>\n    <tr>\n      <th>17</th>\n      <td>klue-nli-v1_train_00017</td>\n      <td>wikipedia</td>\n      <td>10년 후, 16살이 된 사쿠라코는 주위의 반대를 무릅쓰고 도쿄음악학교 진학을 희망한다.</td>\n      <td>사쿠라코는 음악학교 진학을 희망한다.</td>\n      <td>0</td>\n      <td>entailment</td>\n    </tr>\n    <tr>\n      <th>18</th>\n      <td>klue-nli-v1_train_00018</td>\n      <td>wikipedia</td>\n      <td>10년 후, 16살이 된 사쿠라코는 주위의 반대를 무릅쓰고 도쿄음악학교 진학을 희망한다.</td>\n      <td>사쿠라코의 주위는 사쿠라코가 도쿄음악학교에 진학하는 것을 적극 찬성한다.</td>\n      <td>2</td>\n      <td>contradiction</td>\n    </tr>\n    <tr>\n      <th>19</th>\n      <td>klue-nli-v1_train_00019</td>\n      <td>NSMC</td>\n      <td>10년전 나를 매료시켰던 묘하고 멋진영화</td>\n      <td>10년 전에 나를 실망시켰던 영화.</td>\n      <td>2</td>\n      <td>contradiction</td>\n    </tr>\n    <tr>\n      <th>20</th>\n      <td>klue-nli-v1_train_00020</td>\n      <td>NSMC</td>\n      <td>10년전 나를 매료시켰던 묘하고 멋진영화</td>\n      <td>옛날에 나를 사로잡은 영화.</td>\n      <td>0</td>\n      <td>entailment</td>\n    </tr>\n    <tr>\n      <th>21</th>\n      <td>klue-nli-v1_train_00021</td>\n      <td>NSMC</td>\n      <td>10년전 나를 매료시켰던 묘하고 멋진영화</td>\n      <td>나를 매료시켰던 묘한 인디 영화.</td>\n      <td>1</td>\n      <td>neutral</td>\n    </tr>\n    <tr>\n      <th>22</th>\n      <td>klue-nli-v1_train_00022</td>\n      <td>airbnb</td>\n      <td>10분내외 주변에 마트가 3곳이 있습니다.</td>\n      <td>가장 큰 마트는 가장 가까이 있습니다.</td>\n      <td>1</td>\n      <td>neutral</td>\n    </tr>\n    <tr>\n      <th>23</th>\n      <td>klue-nli-v1_train_00023</td>\n      <td>airbnb</td>\n      <td>10분내외 주변에 마트가 3곳이 있습니다.</td>\n      <td>가까이에 마트가 있습니다.</td>\n      <td>0</td>\n      <td>entailment</td>\n    </tr>\n    <tr>\n      <th>24</th>\n      <td>klue-nli-v1_train_00024</td>\n      <td>airbnb</td>\n      <td>10분내외 주변에 마트가 3곳이 있습니다.</td>\n      <td>30분 거리 내에는 음식점 뿐입니다.</td>\n      <td>1</td>\n      <td>neutral</td>\n    </tr>\n    <tr>\n      <th>25</th>\n      <td>klue-nli-v1_train_00025</td>\n      <td>wikipedia</td>\n      <td>10살 소년 우주는 어느 날 집 대청소를 하던 중 천재 과학자인 할아버지, 용이 남...</td>\n      <td>우주는 천재 과학자 용의 손녀이다.</td>\n      <td>2</td>\n      <td>contradiction</td>\n    </tr>\n    <tr>\n      <th>26</th>\n      <td>klue-nli-v1_train_00026</td>\n      <td>wikipedia</td>\n      <td>10살 소년 우주는 어느 날 집 대청소를 하던 중 천재 과학자인 할아버지, 용이 남...</td>\n      <td>천재 과학자 용의 전문분야는 물리역학이다.</td>\n      <td>1</td>\n      <td>neutral</td>\n    </tr>\n    <tr>\n      <th>27</th>\n      <td>klue-nli-v1_train_00027</td>\n      <td>wikipedia</td>\n      <td>10살 소년 우주는 어느 날 집 대청소를 하던 중 천재 과학자인 할아버지, 용이 남...</td>\n      <td>우주의 할아버지 용은 천재 과학자이다.</td>\n      <td>0</td>\n      <td>entailment</td>\n    </tr>\n    <tr>\n      <th>28</th>\n      <td>klue-nli-v1_train_00028</td>\n      <td>NSMC</td>\n      <td>10억점 주고싶은 영화퍼스 참을 수 없는 그리움</td>\n      <td>퍼스 참을 수 없는 그리움은 드라마다.</td>\n      <td>2</td>\n      <td>contradiction</td>\n    </tr>\n    <tr>\n      <th>29</th>\n      <td>klue-nli-v1_train_00029</td>\n      <td>NSMC</td>\n      <td>10억점 주고싶은 영화퍼스 참을 수 없는 그리움</td>\n      <td>퍼스 참을 수 없는 그리움에 평점은 10점밖에 줄 수 없었다.</td>\n      <td>1</td>\n      <td>neutral</td>\n    </tr>\n  </tbody>\n</table>\n</div>"
     },
     "execution_count": 53,
     "metadata": {},
     "output_type": "execute_result"
    }
   ],
   "source": [
    "datasets.set_format(type=\"pandas\")\n",
    "df = datasets[\"train\"][:]\n",
    "def label_int2str(row):\n",
    "    return datasets[\"train\"].features[\"label\"].int2str(row)\n",
    "df[\"label_name\"] = df[\"label\"].apply(label_int2str)\n",
    "df.head(30)"
   ],
   "metadata": {
    "collapsed": false,
    "ExecuteTime": {
     "end_time": "2023-07-18T06:12:16.258478500Z",
     "start_time": "2023-07-18T06:12:13.833962800Z"
    }
   }
  },
  {
   "cell_type": "code",
   "execution_count": null,
   "outputs": [],
   "source": [
    "datasets.reset_format()"
   ],
   "metadata": {
    "collapsed": false
   }
  },
  {
   "cell_type": "code",
   "execution_count": 32,
   "outputs": [],
   "source": [
    "import evaluate\n",
    "metric = evaluate.load(\"glue\",\"mnli\")"
   ],
   "metadata": {
    "collapsed": false,
    "ExecuteTime": {
     "end_time": "2023-07-18T04:22:52.249594300Z",
     "start_time": "2023-07-18T04:22:51.089867600Z"
    }
   }
  },
  {
   "cell_type": "code",
   "execution_count": 33,
   "outputs": [
    {
     "data": {
      "text/plain": "(array([1, 0, 1, 1, 1, 1, 0, 1, 0, 0]), array([0, 0, 1, 1, 1, 0, 0, 1, 0, 1]))"
     },
     "execution_count": 33,
     "metadata": {},
     "output_type": "execute_result"
    }
   ],
   "source": [
    "fake_preds = np.random.randint(0, 2, size=(10,))\n",
    "fake_labels = np.random.randint(0, 2, size=(10,))\n",
    "fake_preds, fake_labels"
   ],
   "metadata": {
    "collapsed": false,
    "ExecuteTime": {
     "end_time": "2023-07-18T04:22:52.254581500Z",
     "start_time": "2023-07-18T04:22:52.249594300Z"
    }
   }
  },
  {
   "cell_type": "code",
   "execution_count": 35,
   "outputs": [
    {
     "data": {
      "text/plain": "{'accuracy': 0.7}"
     },
     "execution_count": 35,
     "metadata": {},
     "output_type": "execute_result"
    }
   ],
   "source": [
    "metric.compute(predictions=fake_preds, references=fake_labels)"
   ],
   "metadata": {
    "collapsed": false,
    "ExecuteTime": {
     "end_time": "2023-07-18T04:22:58.964612300Z",
     "start_time": "2023-07-18T04:22:58.916739700Z"
    }
   }
  },
  {
   "cell_type": "code",
   "execution_count": 43,
   "outputs": [],
   "source": [
    "tokenizer = AutoTokenizer.from_pretrained(model_ckpt)\n",
    "inputs = tokenizer(\"힛걸 진심 최고로 멋지다.\", \"힛걸 진심 최고다 그 어떤 히어로보다 멋지다\")"
   ],
   "metadata": {
    "collapsed": false,
    "ExecuteTime": {
     "end_time": "2023-07-18T04:44:00.255540Z",
     "start_time": "2023-07-18T04:44:00.018951200Z"
    }
   }
  },
  {
   "cell_type": "code",
   "execution_count": 44,
   "outputs": [
    {
     "data": {
      "text/plain": "'[CLS] [UNK] 진심 최고로 멋지다. [SEP] [UNK] 진심 최고다 그 어떤 히어로보다 멋지다 [SEP]'"
     },
     "execution_count": 44,
     "metadata": {},
     "output_type": "execute_result"
    }
   ],
   "source": [
    "tokenizer.decode(inputs[\"input_ids\"])"
   ],
   "metadata": {
    "collapsed": false,
    "ExecuteTime": {
     "end_time": "2023-07-18T04:44:23.381121500Z",
     "start_time": "2023-07-18T04:44:23.360204900Z"
    }
   }
  },
  {
   "cell_type": "code",
   "execution_count": 45,
   "outputs": [],
   "source": [
    "sentence1_key, sentence2_key = (\"premise\", \"hypothesis\")"
   ],
   "metadata": {
    "collapsed": false,
    "ExecuteTime": {
     "end_time": "2023-07-18T04:44:47.776713900Z",
     "start_time": "2023-07-18T04:44:47.757763900Z"
    }
   }
  },
  {
   "cell_type": "code",
   "execution_count": 46,
   "outputs": [
    {
     "data": {
      "text/plain": "Map:   0%|          | 0/24998 [00:00<?, ? examples/s]",
      "application/vnd.jupyter.widget-view+json": {
       "version_major": 2,
       "version_minor": 0,
       "model_id": "d31303b2aad9492b9f8c1d582e41e368"
      }
     },
     "metadata": {},
     "output_type": "display_data"
    },
    {
     "data": {
      "text/plain": "Map:   0%|          | 0/3000 [00:00<?, ? examples/s]",
      "application/vnd.jupyter.widget-view+json": {
       "version_major": 2,
       "version_minor": 0,
       "model_id": "6f176ee4bc8e451587ae73da0bf93017"
      }
     },
     "metadata": {},
     "output_type": "display_data"
    }
   ],
   "source": [
    "def tokenize_function(examples):\n",
    "    return tokenizer(examples[sentence1_key],examples[sentence2_key],truncation=True,return_token_type_ids=False)\n",
    "datasets_encoded = datasets.map(tokenize_function,batched=True)"
   ],
   "metadata": {
    "collapsed": false,
    "ExecuteTime": {
     "end_time": "2023-07-18T04:47:35.068163800Z",
     "start_time": "2023-07-18T04:47:33.234096600Z"
    }
   }
  },
  {
   "cell_type": "code",
   "execution_count": null,
   "outputs": [],
   "source": [
    "id2label = {0: \"entailment\",1: \"neutral\",2: \"contradiction\"}\n",
    "label2id = {\"entailment\": 0,\"neutral\": 1, \"contradiction\": 2}"
   ],
   "metadata": {
    "collapsed": false
   }
  },
  {
   "cell_type": "code",
   "execution_count": 47,
   "outputs": [
    {
     "data": {
      "text/plain": "Downloading (…)lve/main/config.json:   0%|          | 0.00/546 [00:00<?, ?B/s]",
      "application/vnd.jupyter.widget-view+json": {
       "version_major": 2,
       "version_minor": 0,
       "model_id": "f26795f5a1454af58b18520b78f8bcce"
      }
     },
     "metadata": {},
     "output_type": "display_data"
    },
    {
     "data": {
      "text/plain": "Downloading model.safetensors:   0%|          | 0.00/443M [00:00<?, ?B/s]",
      "application/vnd.jupyter.widget-view+json": {
       "version_major": 2,
       "version_minor": 0,
       "model_id": "73c89514a3e8456eaf1973793ec71a9d"
      }
     },
     "metadata": {},
     "output_type": "display_data"
    },
    {
     "name": "stderr",
     "output_type": "stream",
     "text": [
      "Some weights of the model checkpoint at klue/roberta-base were not used when initializing RobertaForSequenceClassification: ['lm_head.bias', 'lm_head.layer_norm.bias', 'lm_head.dense.weight', 'lm_head.dense.bias', 'lm_head.layer_norm.weight']\n",
      "- This IS expected if you are initializing RobertaForSequenceClassification from the checkpoint of a model trained on another task or with another architecture (e.g. initializing a BertForSequenceClassification model from a BertForPreTraining model).\n",
      "- This IS NOT expected if you are initializing RobertaForSequenceClassification from the checkpoint of a model that you expect to be exactly identical (initializing a BertForSequenceClassification model from a BertForSequenceClassification model).\n",
      "Some weights of RobertaForSequenceClassification were not initialized from the model checkpoint at klue/roberta-base and are newly initialized: ['classifier.out_proj.bias', 'classifier.out_proj.weight', 'classifier.dense.weight', 'classifier.dense.bias']\n",
      "You should probably TRAIN this model on a down-stream task to be able to use it for predictions and inference.\n"
     ]
    }
   ],
   "source": [
    "num_labels = 3\n",
    "model = AutoModelForSequenceClassification.from_pretrained(model_ckpt,num_labels=num_labels,id2label=id2label,label2id=label2id)"
   ],
   "metadata": {
    "collapsed": false,
    "ExecuteTime": {
     "end_time": "2023-07-18T04:49:54.438691600Z",
     "start_time": "2023-07-18T04:48:36.754823600Z"
    }
   }
  },
  {
   "cell_type": "code",
   "execution_count": 48,
   "outputs": [],
   "source": [
    "import evaluate\n",
    "import numpy as np\n",
    "def compute_metrics(eval_pred):\n",
    "    # klue/nli uses the same metric as that of glue/mnli\n",
    "    metric = evaluate.load(\"glue\",\"mnli\")\n",
    "    predictions, labels = eval_pred\n",
    "    predictions = np.argmax(predictions, axis=1)\n",
    "    return metric.compute(predictions=predictions,references=labels)"
   ],
   "metadata": {
    "collapsed": false,
    "ExecuteTime": {
     "end_time": "2023-07-18T04:52:07.698409700Z",
     "start_time": "2023-07-18T04:52:07.690431Z"
    }
   }
  },
  {
   "cell_type": "code",
   "execution_count": 51,
   "outputs": [],
   "source": [
    "metric_name = \"accuracy\"\n",
    "batch_size = 32\n",
    "args = TrainingArguments(\n",
    "    \"klue_nli_roberta_base_model\",\n",
    "    evaluation_strategy=\"epoch\",\n",
    "    learning_rate=2e-5,\n",
    "    per_device_train_batch_size=batch_size,\n",
    "    per_gpu_eval_batch_size=batch_size,\n",
    "    num_train_epochs=5,\n",
    "    weight_decay=0.01,\n",
    "    push_to_hub=True,\n",
    ")"
   ],
   "metadata": {
    "collapsed": false,
    "ExecuteTime": {
     "end_time": "2023-07-18T04:59:56.880097200Z",
     "start_time": "2023-07-18T04:59:56.659415Z"
    }
   }
  },
  {
   "cell_type": "code",
   "execution_count": 52,
   "outputs": [
    {
     "name": "stderr",
     "output_type": "stream",
     "text": [
      "Cloning https://huggingface.co/chunwoolee0/klue_nli_roberta_base_model into local empty directory.\n"
     ]
    }
   ],
   "source": [
    "trainer = Trainer(\n",
    "    model=model,\n",
    "    args=args,\n",
    "    train_dataset=datasets_encoded[\"train\"],\n",
    "    eval_dataset=datasets_encoded[\"validation\"],\n",
    "    tokenizer=tokenizer,\n",
    "    compute_metrics=compute_metrics,\n",
    ")"
   ],
   "metadata": {
    "collapsed": false,
    "ExecuteTime": {
     "end_time": "2023-07-18T05:02:01.207989700Z",
     "start_time": "2023-07-18T05:01:50.144883600Z"
    }
   }
  },
  {
   "cell_type": "code",
   "execution_count": null,
   "outputs": [],
   "source": [
    "trainer.train()"
   ],
   "metadata": {
    "collapsed": false
   }
  },
  {
   "cell_type": "code",
   "execution_count": null,
   "outputs": [],
   "source": [
    "trainer.push_to_hub()"
   ],
   "metadata": {
    "collapsed": false
   }
  }
 ],
 "metadata": {
  "kernelspec": {
   "display_name": "Python 3",
   "language": "python",
   "name": "python3"
  },
  "language_info": {
   "codemirror_mode": {
    "name": "ipython",
    "version": 2
   },
   "file_extension": ".py",
   "mimetype": "text/x-python",
   "name": "python",
   "nbconvert_exporter": "python",
   "pygments_lexer": "ipython2",
   "version": "2.7.6"
  }
 },
 "nbformat": 4,
 "nbformat_minor": 0
}
