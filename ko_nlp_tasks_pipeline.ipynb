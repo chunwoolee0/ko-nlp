{
 "cells": [
  {
   "cell_type": "markdown",
   "source": [
    "## Document classification (DOC CLS)\n",
    "nmsc datasets\n"
   ],
   "metadata": {
    "collapsed": false
   }
  },
  {
   "cell_type": "code",
   "execution_count": 1,
   "outputs": [
    {
     "name": "stderr",
     "output_type": "stream",
     "text": [
      "A matching Triton is not available, some optimizations will not be enabled.\n",
      "Error caught was: No module named 'triton'\n"
     ]
    }
   ],
   "source": [
    "from transformers import pipeline\n",
    "model_ckpt = \"chunwoolee0/my_doccls_korean_model\"\n",
    "classifier = pipeline(\"sentiment-analysis\",model=model_ckpt)"
   ],
   "metadata": {
    "collapsed": false,
    "ExecuteTime": {
     "end_time": "2023-07-30T00:22:33.228648500Z",
     "start_time": "2023-07-30T00:21:45.130593400Z"
    }
   }
  },
  {
   "cell_type": "code",
   "execution_count": 2,
   "outputs": [
    {
     "data": {
      "text/plain": "[{'label': 'negative', 'score': 0.991716206073761}]"
     },
     "execution_count": 2,
     "metadata": {},
     "output_type": "execute_result"
    }
   ],
   "source": [
    "text = \"왕 짜증난다.\"\n",
    "classifier(text)"
   ],
   "metadata": {
    "collapsed": false,
    "ExecuteTime": {
     "end_time": "2023-07-30T00:22:33.506905400Z",
     "start_time": "2023-07-30T00:22:33.169806700Z"
    }
   }
  },
  {
   "cell_type": "code",
   "execution_count": 3,
   "outputs": [
    {
     "data": {
      "text/plain": "[{'label': 'negative', 'score': 0.5668720602989197}]"
     },
     "execution_count": 3,
     "metadata": {},
     "output_type": "execute_result"
    }
   ],
   "source": [
    "text = '그런대로 무난하다'\n",
    "classifier(text)"
   ],
   "metadata": {
    "collapsed": false,
    "ExecuteTime": {
     "end_time": "2023-07-30T00:22:33.630574Z",
     "start_time": "2023-07-30T00:22:33.509898100Z"
    }
   }
  },
  {
   "cell_type": "code",
   "execution_count": 4,
   "outputs": [
    {
     "data": {
      "text/plain": "[{'label': 'positive', 'score': 0.9369205832481384}]"
     },
     "execution_count": 4,
     "metadata": {},
     "output_type": "execute_result"
    }
   ],
   "source": [
    "text = '잘 만들어졌다'\n",
    "classifier(text)"
   ],
   "metadata": {
    "collapsed": false,
    "ExecuteTime": {
     "end_time": "2023-07-30T00:22:33.755239100Z",
     "start_time": "2023-07-30T00:22:33.632568200Z"
    }
   }
  },
  {
   "cell_type": "markdown",
   "source": [
    "### KLUE/NER Named Entity Recognition\n",
    "KLUE/NER datasets"
   ],
   "metadata": {
    "collapsed": false
   }
  },
  {
   "cell_type": "code",
   "execution_count": 5,
   "outputs": [],
   "source": [
    "model_ckpt = \"chunwoolee0/klue_ner_roberta_model\"\n",
    "token_classifier = pipeline(\n",
    "    \"token-classification\",model=model_ckpt,aggregation_strategy=\"simple\"\n",
    ")"
   ],
   "metadata": {
    "collapsed": false,
    "ExecuteTime": {
     "end_time": "2023-07-30T00:22:36.604620200Z",
     "start_time": "2023-07-30T00:22:33.758231400Z"
    }
   }
  },
  {
   "cell_type": "code",
   "execution_count": 6,
   "outputs": [
    {
     "data": {
      "text/plain": "[{'entity_group': 'OG',\n  'score': 0.99406624,\n  'word': '삼성',\n  'start': 5,\n  'end': 7}]"
     },
     "execution_count": 6,
     "metadata": {},
     "output_type": "execute_result"
    }
   ],
   "source": [
    "token_classifier(\"그 제품 삼성 건가요?\")"
   ],
   "metadata": {
    "collapsed": false,
    "ExecuteTime": {
     "end_time": "2023-07-30T00:22:36.697372400Z",
     "start_time": "2023-07-30T00:22:36.606614200Z"
    }
   }
  },
  {
   "cell_type": "code",
   "execution_count": 7,
   "outputs": [
    {
     "data": {
      "text/plain": "[{'entity_group': 'LC',\n  'score': 0.7193408,\n  'word': '한국',\n  'start': 0,\n  'end': 2},\n {'entity_group': 'DT',\n  'score': 0.99358654,\n  'word': '11년',\n  'start': 4,\n  'end': 7},\n {'entity_group': 'OG',\n  'score': 0.9899345,\n  'word': '유엔',\n  'start': 10,\n  'end': 12},\n {'entity_group': 'OG',\n  'score': 0.93576443,\n  'word': '안보리',\n  'start': 13,\n  'end': 16}]"
     },
     "execution_count": 7,
     "metadata": {},
     "output_type": "execute_result"
    }
   ],
   "source": [
    "token_classifier(\"한국, 11년만에 유엔 안보리 비상임이사국 재진입\")"
   ],
   "metadata": {
    "collapsed": false,
    "ExecuteTime": {
     "end_time": "2023-07-30T00:22:36.839990800Z",
     "start_time": "2023-07-30T00:22:36.699368600Z"
    }
   }
  },
  {
   "cell_type": "code",
   "execution_count": 8,
   "outputs": [
    {
     "data": {
      "text/plain": "[{'entity_group': 'PS',\n  'score': 0.99813867,\n  'word': '류더인',\n  'start': 0,\n  'end': 3},\n {'entity_group': 'OG',\n  'score': 0.7399859,\n  'word': '대만',\n  'start': 4,\n  'end': 6},\n {'entity_group': 'OG',\n  'score': 0.9961631,\n  'word': 'TSMC',\n  'start': 7,\n  'end': 11}]"
     },
     "execution_count": 8,
     "metadata": {},
     "output_type": "execute_result"
    }
   ],
   "source": [
    "token_classifier(\"류더인 대만 TSMC 회장도 현지 콘퍼런스에서 “받아들일 수 없는 일부 조건이 있다”고 언급한 바 있다.\")"
   ],
   "metadata": {
    "collapsed": false,
    "ExecuteTime": {
     "end_time": "2023-07-30T00:22:36.998566900Z",
     "start_time": "2023-07-30T00:22:36.842984100Z"
    }
   }
  },
  {
   "cell_type": "markdown",
   "source": [
    "### KLUE/YNAT Subject Classification"
   ],
   "metadata": {
    "collapsed": false
   }
  },
  {
   "cell_type": "code",
   "execution_count": 9,
   "outputs": [
    {
     "name": "stderr",
     "output_type": "stream",
     "text": [
      "C:\\Users\\clee\\venv10\\lib\\site-packages\\transformers\\pipelines\\text_classification.py:104: UserWarning: `return_all_scores` is now deprecated,  if want a similar funcionality use `top_k=None` instead of `return_all_scores=True` or `top_k=1` instead of `return_all_scores=False`.\n",
      "  warnings.warn(\n"
     ]
    }
   ],
   "source": [
    "model_checkpoint = \"chunwoolee0/klue_ynat_roberta_base_model\"\n",
    "classifier = pipeline(\"text-classification\",model=model_checkpoint,\n",
    "                      return_all_scores=True)"
   ],
   "metadata": {
    "collapsed": false,
    "ExecuteTime": {
     "end_time": "2023-07-30T00:22:40.067370400Z",
     "start_time": "2023-07-30T00:22:36.998566900Z"
    }
   }
  },
  {
   "cell_type": "code",
   "execution_count": 10,
   "outputs": [
    {
     "data": {
      "text/plain": "[[{'label': 'IT과학', 'score': 0.9807253479957581},\n  {'label': '경제', 'score': 0.0025139665231108665},\n  {'label': '사회', 'score': 0.0065391287207603455},\n  {'label': '생활문화', 'score': 0.00149971479550004},\n  {'label': '세계', 'score': 0.004847498144954443},\n  {'label': '스포츠', 'score': 0.0024945028126239777},\n  {'label': '정치', 'score': 0.0013798086438328028}]]"
     },
     "execution_count": 10,
     "metadata": {},
     "output_type": "execute_result"
    }
   ],
   "source": [
    "title = \"항응고제 성분 코로나19에 효과…세포실험서 확인\"\n",
    "classifier(title)"
   ],
   "metadata": {
    "collapsed": false,
    "ExecuteTime": {
     "end_time": "2023-07-30T00:22:40.180061100Z",
     "start_time": "2023-07-30T00:22:40.071351900Z"
    }
   }
  },
  {
   "cell_type": "code",
   "execution_count": 11,
   "outputs": [
    {
     "data": {
      "text/plain": "[[{'label': 'IT과학', 'score': 0.0007026148377917707},\n  {'label': '경제', 'score': 0.0017282568151131272},\n  {'label': '사회', 'score': 0.003673239378258586},\n  {'label': '생활문화', 'score': 0.9890350699424744},\n  {'label': '세계', 'score': 0.0017089156899601221},\n  {'label': '스포츠', 'score': 0.0022249321918934584},\n  {'label': '정치', 'score': 0.0009269161964766681}]]"
     },
     "execution_count": 11,
     "metadata": {},
     "output_type": "execute_result"
    }
   ],
   "source": [
    "title = \"뮤지컬 영웅 합류한 안재욱 정성화와 다른 안중근 보여줄것\"\n",
    "classifier(title)"
   ],
   "metadata": {
    "collapsed": false,
    "ExecuteTime": {
     "end_time": "2023-07-30T00:22:40.286775500Z",
     "start_time": "2023-07-30T00:22:40.181057400Z"
    }
   }
  },
  {
   "cell_type": "code",
   "execution_count": 12,
   "outputs": [
    {
     "data": {
      "text/plain": "[[{'label': 'IT과학', 'score': 0.002564449794590473},\n  {'label': '경제', 'score': 0.04233933985233307},\n  {'label': '사회', 'score': 0.9437140226364136},\n  {'label': '생활문화', 'score': 0.003957194276154041},\n  {'label': '세계', 'score': 0.0020921467803418636},\n  {'label': '스포츠', 'score': 0.0013872859999537468},\n  {'label': '정치', 'score': 0.003945556003600359}]]"
     },
     "execution_count": 12,
     "metadata": {},
     "output_type": "execute_result"
    }
   ],
   "source": [
    "title = \"MBN 노조 부동산 물적분할 중단하고 소유경영 분리해야\"\n",
    "classifier(title)"
   ],
   "metadata": {
    "collapsed": false,
    "ExecuteTime": {
     "end_time": "2023-07-30T00:22:40.381522800Z",
     "start_time": "2023-07-30T00:22:40.281787500Z"
    }
   }
  },
  {
   "cell_type": "markdown",
   "source": [
    "### KLUE/NLI  Natural Language Inference\n",
    "Similarity relation between two sentences.\n",
    "Entailment, contraction, neutral"
   ],
   "metadata": {
    "collapsed": false
   }
  },
  {
   "cell_type": "code",
   "execution_count": 19,
   "outputs": [],
   "source": [
    "from transformers import pipeline\n",
    "model_checkpoint = \"chunwoolee0/klue_nli_roberta_base_model\"\n",
    "classifier = pipeline(\"text-classification\",model=model_checkpoint,return_all_scores=True)"
   ],
   "metadata": {
    "collapsed": false,
    "ExecuteTime": {
     "end_time": "2023-07-30T00:23:21.564405500Z",
     "start_time": "2023-07-30T00:23:19.756239600Z"
    }
   }
  },
  {
   "cell_type": "code",
   "execution_count": 20,
   "outputs": [
    {
     "data": {
      "text/plain": "[[{'label': 'entailment', 'score': 0.0007746085175313056},\n  {'label': 'neutral', 'score': 0.7450382709503174},\n  {'label': 'contradiction', 'score': 0.25418704748153687}]]"
     },
     "execution_count": 20,
     "metadata": {},
     "output_type": "execute_result"
    }
   ],
   "source": [
    "premise=\"나는 오늘 공원에서 친구를 만났다\"\n",
    "hypothesis = \"나는 오늘 학교에 갔다\"\n",
    "classifier(\" \".join([premise, hypothesis]), padding=True, truncation=True)"
   ],
   "metadata": {
    "collapsed": false,
    "ExecuteTime": {
     "end_time": "2023-07-30T00:23:21.696053500Z",
     "start_time": "2023-07-30T00:23:21.544459600Z"
    }
   }
  },
  {
   "cell_type": "code",
   "execution_count": 21,
   "outputs": [
    {
     "data": {
      "text/plain": "[[{'label': 'entailment', 'score': 0.0007672435604035854},\n  {'label': 'neutral', 'score': 0.0002904852444771677},\n  {'label': 'contradiction', 'score': 0.9989423155784607}]]"
     },
     "execution_count": 21,
     "metadata": {},
     "output_type": "execute_result"
    }
   ],
   "source": [
    "premise=\"100분간 잘껄 그래도 소닉붐땜에 2점준다\"\n",
    "hypothesis = \"100분간 잤다.\t\"\n",
    "classifier(\" \".join([premise, hypothesis]), padding=True, truncation=True)"
   ],
   "metadata": {
    "collapsed": false,
    "ExecuteTime": {
     "end_time": "2023-07-30T00:23:21.820720300Z",
     "start_time": "2023-07-30T00:23:21.700043100Z"
    }
   }
  },
  {
   "cell_type": "code",
   "execution_count": 22,
   "outputs": [
    {
     "data": {
      "text/plain": "[[{'label': 'entailment', 'score': 0.0006482962053269148},\n  {'label': 'neutral', 'score': 0.9990056157112122},\n  {'label': 'contradiction', 'score': 0.0003460997249931097}]]"
     },
     "execution_count": 22,
     "metadata": {},
     "output_type": "execute_result"
    }
   ],
   "source": [
    "premise=\"100분간 잘껄 그래도 소닉붐땜에 2점준다\"\n",
    "hypothesis = \"소닉붐이 정말 멋있었다.\t\"\n",
    "classifier(\" \".join([premise, hypothesis]), padding=True, truncation=True)"
   ],
   "metadata": {
    "collapsed": false,
    "ExecuteTime": {
     "end_time": "2023-07-30T00:23:22.195717Z",
     "start_time": "2023-07-30T00:23:22.080027600Z"
    }
   }
  },
  {
   "cell_type": "code",
   "execution_count": 23,
   "outputs": [
    {
     "data": {
      "text/plain": "[[{'label': 'entailment', 'score': 0.9980097413063049},\n  {'label': 'neutral', 'score': 0.0015507685020565987},\n  {'label': 'contradiction', 'score': 0.00043947319500148296}]]"
     },
     "execution_count": 23,
     "metadata": {},
     "output_type": "execute_result"
    }
   ],
   "source": [
    "premise=\"힛걸 진심 최고다 그 어떤 히어로보다 멋지다\"\n",
    "hypothesis = \"힛걸 진심 최고로 멋지다.\t\"\n",
    "classifier(\" \".join([premise, hypothesis]), padding=True, truncation=True)"
   ],
   "metadata": {
    "collapsed": false,
    "ExecuteTime": {
     "end_time": "2023-07-30T00:23:23.102293800Z",
     "start_time": "2023-07-30T00:23:22.942722Z"
    }
   }
  },
  {
   "cell_type": "code",
   "execution_count": 24,
   "outputs": [
    {
     "data": {
      "text/plain": "[[{'label': 'entailment', 'score': 0.9983177185058594},\n  {'label': 'neutral', 'score': 0.0011992745567113161},\n  {'label': 'contradiction', 'score': 0.00048302908544428647}]]"
     },
     "execution_count": 24,
     "metadata": {},
     "output_type": "execute_result"
    }
   ],
   "source": [
    "premise=\"10분내외 주변에 마트가 3곳이 있습니다.\"\n",
    "hypothesis = \"가까이에 마트가 있습니다.\"\n",
    "classifier(\" \".join([premise, hypothesis]), padding=True, truncation=True)"
   ],
   "metadata": {
    "collapsed": false,
    "ExecuteTime": {
     "end_time": "2023-07-30T00:23:24.303082300Z",
     "start_time": "2023-07-30T00:23:23.676758100Z"
    }
   }
  },
  {
   "cell_type": "code",
   "execution_count": 25,
   "outputs": [
    {
     "data": {
      "text/plain": "[[{'label': 'entailment', 'score': 0.0009692633175291121},\n  {'label': 'neutral', 'score': 0.0009046163759194314},\n  {'label': 'contradiction', 'score': 0.9981260895729065}]]"
     },
     "execution_count": 25,
     "metadata": {},
     "output_type": "execute_result"
    }
   ],
   "source": [
    "premise=\"10살 소년 우주는 어느 날 집 대청소를 하던 중 천재 과학자인 할아버지, 용이 남긴 물건을 발견한다.\"\n",
    "hypothesis = \"우주는 천재 과학자 용의 손녀이다.\"\n",
    "classifier(\" \".join([premise, hypothesis]), padding=True, truncation=True)"
   ],
   "metadata": {
    "collapsed": false,
    "ExecuteTime": {
     "end_time": "2023-07-30T00:23:24.616245200Z",
     "start_time": "2023-07-30T00:23:24.408800500Z"
    }
   }
  },
  {
   "cell_type": "code",
   "execution_count": 26,
   "outputs": [
    {
     "data": {
      "text/plain": "[[{'label': 'entailment', 'score': 0.9984384179115295},\n  {'label': 'neutral', 'score': 0.000982145662419498},\n  {'label': 'contradiction', 'score': 0.0005794004537165165}]]"
     },
     "execution_count": 26,
     "metadata": {},
     "output_type": "execute_result"
    }
   ],
   "source": [
    "premise=\"10살 소년 우주는 어느 날 집 대청소를 하던 중 천재 과학자인 할아버지, 용이 남긴 물건을 발견한다.\"\n",
    "hypothesis = \"우주의 할아버지 용은 천재 과학자이다.\"\n",
    "classifier(\" \".join([premise, hypothesis]), padding=True, truncation=True)"
   ],
   "metadata": {
    "collapsed": false,
    "ExecuteTime": {
     "end_time": "2023-07-30T00:23:25.319366400Z",
     "start_time": "2023-07-30T00:23:25.158794600Z"
    }
   }
  },
  {
   "cell_type": "markdown",
   "source": [
    "### Translation\n",
    "From english to korean"
   ],
   "metadata": {
    "collapsed": false
   }
  },
  {
   "cell_type": "code",
   "execution_count": 6,
   "outputs": [
    {
     "name": "stderr",
     "output_type": "stream",
     "text": [
      "You passed along `num_labels=3` with an incompatible id to label map: {'0': 'NEGATIVE', '1': 'POSITIVE'}. The number of labels wil be overwritten to 2.\n",
      "You passed along `num_labels=3` with an incompatible id to label map: {'0': 'NEGATIVE', '1': 'POSITIVE'}. The number of labels wil be overwritten to 2.\n",
      "Your input_length: 25 is bigger than 0.9 * max_length: 20. You might consider increasing your max_length manually, e.g. translator('...', max_length=400)\n"
     ]
    },
    {
     "data": {
      "text/plain": "[{'translation_text': '이 코스는 Hugging Face에서 제작합니다. @ info'}]"
     },
     "execution_count": 6,
     "metadata": {},
     "output_type": "execute_result"
    }
   ],
   "source": [
    "from transformers import pipeline\n",
    "\n",
    "translator = pipeline(\"translation\", model=\"chunwoolee0/circulus-kobart-en-to-ko\")\n",
    "translator(\"This course is produced by Hugging Face.\")"
   ],
   "metadata": {
    "collapsed": false,
    "ExecuteTime": {
     "end_time": "2023-07-30T00:53:39.500898100Z",
     "start_time": "2023-07-30T00:53:28.518264200Z"
    }
   }
  },
  {
   "cell_type": "code",
   "execution_count": 7,
   "outputs": [
    {
     "data": {
      "text/plain": "[{'translation_text': '아침을 먹었습니다. @ info: whatsthis '}]"
     },
     "execution_count": 7,
     "metadata": {},
     "output_type": "execute_result"
    }
   ],
   "source": [
    "translator(\"I ate the breakfast.\")"
   ],
   "metadata": {
    "collapsed": false,
    "ExecuteTime": {
     "end_time": "2023-07-30T00:53:51.435984700Z",
     "start_time": "2023-07-30T00:53:45.076989800Z"
    }
   }
  },
  {
   "cell_type": "code",
   "execution_count": 8,
   "outputs": [
    {
     "name": "stderr",
     "output_type": "stream",
     "text": [
      "Your input_length: 19 is bigger than 0.9 * max_length: 20. You might consider increasing your max_length manually, e.g. translator('...', max_length=400)\n"
     ]
    },
    {
     "data": {
      "text/plain": "[{'translation_text': '* 4, 6 등은 짝수입니다. Name of the user, '}]"
     },
     "execution_count": 8,
     "metadata": {},
     "output_type": "execute_result"
    }
   ],
   "source": [
    "translator(\"2, 4, 6 etc. are even numbers.\")"
   ],
   "metadata": {
    "collapsed": false,
    "ExecuteTime": {
     "end_time": "2023-07-30T00:54:12.435834800Z",
     "start_time": "2023-07-30T00:54:10.012317900Z"
    }
   }
  },
  {
   "cell_type": "code",
   "execution_count": 9,
   "outputs": [
    {
     "name": "stderr",
     "output_type": "stream",
     "text": [
      "Your input_length: 51 is bigger than 0.9 * max_length: 20. You might consider increasing your max_length manually, e.g. translator('...', max_length=400)\n"
     ]
    },
    {
     "data": {
      "text/plain": "[{'translation_text': '금융 세계에 종합적인 통신과 업무를 수행할 수 있는 기능을 추가할 것입니다N'}]"
     },
     "execution_count": 9,
     "metadata": {},
     "output_type": "execute_result"
    }
   ],
   "source": [
    "translator(\"we will add comprehensive communications and the ability to conduct your entire financial world\")"
   ],
   "metadata": {
    "collapsed": false,
    "ExecuteTime": {
     "end_time": "2023-07-30T00:58:26.213277800Z",
     "start_time": "2023-07-30T00:58:21.827008400Z"
    }
   }
  },
  {
   "cell_type": "code",
   "execution_count": 10,
   "outputs": [
    {
     "name": "stderr",
     "output_type": "stream",
     "text": [
      "Your input_length: 88 is bigger than 0.9 * max_length: 20. You might consider increasing your max_length manually, e.g. translator('...', max_length=400)\n"
     ]
    },
    {
     "data": {
      "text/plain": "[{'translation_text': '알 수 있듯이 영어 토큰나이저를 사용하여 프랑스어 문장을 처리하면'}]"
     },
     "execution_count": 10,
     "metadata": {},
     "output_type": "execute_result"
    }
   ],
   "source": [
    "translator(\"As we can see, using the English tokenizer to preprocess a French sentence results in a lot more tokens, since the tokenizer doesn’t know any French words\")"
   ],
   "metadata": {
    "collapsed": false,
    "ExecuteTime": {
     "end_time": "2023-07-30T01:05:49.147208400Z",
     "start_time": "2023-07-30T01:05:48.112974700Z"
    }
   }
  },
  {
   "cell_type": "code",
   "execution_count": 11,
   "outputs": [
    {
     "name": "stderr",
     "output_type": "stream",
     "text": [
      "Your input_length: 42 is bigger than 0.9 * max_length: 20. You might consider increasing your max_length manually, e.g. translator('...', max_length=400)\n"
     ]
    },
    {
     "data": {
      "text/plain": "[{'translation_text': '마지막 단계는 데이터셋에 적용할 전처리 함수를 정의하는 것입니다Nam'}]"
     },
     "execution_count": 11,
     "metadata": {},
     "output_type": "execute_result"
    }
   ],
   "source": [
    "translator(\"the last step is to define the preprocessing function we will apply on the datasets\")"
   ],
   "metadata": {
    "collapsed": false,
    "ExecuteTime": {
     "end_time": "2023-07-30T01:06:22.051746500Z",
     "start_time": "2023-07-30T01:06:21.157140500Z"
    }
   }
  },
  {
   "cell_type": "markdown",
   "source": [
    "### Fill mask"
   ],
   "metadata": {
    "collapsed": false
   }
  },
  {
   "cell_type": "code",
   "execution_count": 13,
   "outputs": [
    {
     "name": "stderr",
     "output_type": "stream",
     "text": [
      "Some weights of the model checkpoint at klue/bert-base were not used when initializing BertForMaskedLM: ['cls.seq_relationship.weight', 'cls.seq_relationship.bias']\n",
      "- This IS expected if you are initializing BertForMaskedLM from the checkpoint of a model trained on another task or with another architecture (e.g. initializing a BertForSequenceClassification model from a BertForPreTraining model).\n",
      "- This IS NOT expected if you are initializing BertForMaskedLM from the checkpoint of a model that you expect to be exactly identical (initializing a BertForSequenceClassification model from a BertForSequenceClassification model).\n"
     ]
    },
    {
     "data": {
      "text/plain": "[{'score': 0.5954664945602417,\n  'token': 3671,\n  'token_str': '서울',\n  'sequence': '대한민국의 수도는 서울 이다.'},\n {'score': 0.08106383681297302,\n  'token': 9474,\n  'token_str': '광화문',\n  'sequence': '대한민국의 수도는 광화문 이다.'},\n {'score': 0.04720234498381615,\n  'token': 7141,\n  'token_str': '평양',\n  'sequence': '대한민국의 수도는 평양 이다.'},\n {'score': 0.02944554202258587,\n  'token': 3902,\n  'token_str': '부산',\n  'sequence': '대한민국의 수도는 부산 이다.'},\n {'score': 0.02646556682884693,\n  'token': 4068,\n  'token_str': '인천',\n  'sequence': '대한민국의 수도는 인천 이다.'}]"
     },
     "execution_count": 13,
     "metadata": {},
     "output_type": "execute_result"
    }
   ],
   "source": [
    "from transformers import pipeline\n",
    "\n",
    "unmasker = pipeline(\"fill-mask\", model=\"klue/bert-base\")\n",
    "unmasker(\"대한민국의 수도는 [MASK] 이다.\")"
   ],
   "metadata": {
    "collapsed": false,
    "ExecuteTime": {
     "end_time": "2023-07-30T01:09:44.052020600Z",
     "start_time": "2023-07-30T01:09:40.335738100Z"
    }
   }
  },
  {
   "cell_type": "code",
   "execution_count": 14,
   "outputs": [
    {
     "data": {
      "text/plain": "[{'score': 0.27408918738365173,\n  'token': 5573,\n  'token_str': '문재인',\n  'sequence': '대한민국의 대통령은 문재인 이다.'},\n {'score': 0.13360512256622314,\n  'token': 4655,\n  'token_str': '박근혜',\n  'sequence': '대한민국의 대통령은 박근혜 이다.'}]"
     },
     "execution_count": 14,
     "metadata": {},
     "output_type": "execute_result"
    }
   ],
   "source": [
    "unmasker(\"대한민국의 대통령은 [MASK] 이다.\", top_k=2)"
   ],
   "metadata": {
    "collapsed": false,
    "ExecuteTime": {
     "end_time": "2023-07-30T01:10:16.506237200Z",
     "start_time": "2023-07-30T01:10:16.414486900Z"
    }
   }
  },
  {
   "cell_type": "code",
   "execution_count": 15,
   "outputs": [
    {
     "data": {
      "text/plain": "[{'score': 0.03400537371635437,\n  'token': 3956,\n  'token_str': '50',\n  'sequence': '한국인의 평균수명은 50 이다.'},\n {'score': 0.03295913711190224,\n  'token': 1,\n  'token_str': '[UNK]',\n  'sequence': '한국인의 평균수명은 이다.'}]"
     },
     "execution_count": 15,
     "metadata": {},
     "output_type": "execute_result"
    }
   ],
   "source": [
    "unmasker(\"한국인의 평균수명은 [MASK] 이다.\", top_k=2)"
   ],
   "metadata": {
    "collapsed": false,
    "ExecuteTime": {
     "end_time": "2023-07-30T01:10:28.538050900Z",
     "start_time": "2023-07-30T01:10:28.444303100Z"
    }
   }
  },
  {
   "cell_type": "markdown",
   "source": [
    "위의 klue/bert-base에 의한 한국인의 평균수명에 대해 좋지 않은 결과를 얻었다.\n",
    "다른 모델을 사용하자."
   ],
   "metadata": {
    "collapsed": false
   }
  },
  {
   "cell_type": "code",
   "execution_count": 16,
   "outputs": [
    {
     "data": {
      "text/plain": "[{'score': 0.1217661052942276,\n  'token': 4684,\n  'token_str': '80',\n  'sequence': '한국인의 평균수명은 80 이다.'},\n {'score': 0.06582553684711456,\n  'token': 4531,\n  'token_str': '70',\n  'sequence': '한국인의 평균수명은 70 이다.'}]"
     },
     "execution_count": 16,
     "metadata": {},
     "output_type": "execute_result"
    }
   ],
   "source": [
    "unmasker = pipeline(\"fill-mask\", model=\"klue/roberta-base\")\n",
    "unmasker(\"한국인의 평균수명은 [MASK] 이다.\", top_k=2)"
   ],
   "metadata": {
    "collapsed": false,
    "ExecuteTime": {
     "end_time": "2023-07-30T01:12:20.289066300Z",
     "start_time": "2023-07-30T01:12:16.535104100Z"
    }
   }
  },
  {
   "cell_type": "code",
   "execution_count": 17,
   "outputs": [
    {
     "data": {
      "text/plain": "[{'score': 0.6443958282470703,\n  'token': 5573,\n  'token_str': '문재인',\n  'sequence': '대한민국의 대통령은 문재인 이다.'},\n {'score': 0.13501475751399994,\n  'token': 4655,\n  'token_str': '박근혜',\n  'sequence': '대한민국의 대통령은 박근혜 이다.'}]"
     },
     "execution_count": 17,
     "metadata": {},
     "output_type": "execute_result"
    }
   ],
   "source": [
    "unmasker(\"대한민국의 대통령은 [MASK] 이다.\", top_k=2)"
   ],
   "metadata": {
    "collapsed": false,
    "ExecuteTime": {
     "end_time": "2023-07-30T01:12:30.467850600Z",
     "start_time": "2023-07-30T01:12:30.384074300Z"
    }
   }
  },
  {
   "cell_type": "code",
   "execution_count": 18,
   "outputs": [
    {
     "data": {
      "text/plain": "[{'score': 0.326753705739975,\n  'token': 8499,\n  'token_str': '독도',\n  'sequence': '한국의 제일 남쪽에 있는 섬의 이름은 독도 이다.'},\n {'score': 0.07274088263511658,\n  'token': 1,\n  'token_str': '[PAD]',\n  'sequence': '한국의 제일 남쪽에 있는 섬의 이름은 이다.'}]"
     },
     "execution_count": 18,
     "metadata": {},
     "output_type": "execute_result"
    }
   ],
   "source": [
    "unmasker = pipeline(\"fill-mask\", model=\"klue/roberta-base\")\n",
    "unmasker(\"한국의 제일 남쪽에 있는 섬의 이름은 [MASK] 이다.\", top_k=2)"
   ],
   "metadata": {
    "collapsed": false,
    "ExecuteTime": {
     "end_time": "2023-07-30T01:13:26.725446400Z",
     "start_time": "2023-07-30T01:13:24.468481500Z"
    }
   }
  },
  {
   "cell_type": "markdown",
   "source": [],
   "metadata": {
    "collapsed": false
   }
  },
  {
   "cell_type": "markdown",
   "source": [
    "위의 결과는 좋지 않다. fine-tuning 할 필요가 있어 보인다. 어떤 데이터를 쓸까?"
   ],
   "metadata": {
    "collapsed": false
   }
  },
  {
   "cell_type": "code",
   "execution_count": 24,
   "outputs": [
    {
     "data": {
      "text/plain": "Downloading (…)lve/main/config.json:   0%|          | 0.00/547 [00:00<?, ?B/s]",
      "application/vnd.jupyter.widget-view+json": {
       "version_major": 2,
       "version_minor": 0,
       "model_id": "f1474c47159c4642a91e852cb2f4d188"
      }
     },
     "metadata": {},
     "output_type": "display_data"
    },
    {
     "data": {
      "text/plain": "Downloading model.safetensors:   0%|          | 0.00/1.35G [00:00<?, ?B/s]",
      "application/vnd.jupyter.widget-view+json": {
       "version_major": 2,
       "version_minor": 0,
       "model_id": "6801346bf09a4a00afa4717ed5dbaf7e"
      }
     },
     "metadata": {},
     "output_type": "display_data"
    },
    {
     "data": {
      "text/plain": "Downloading (…)okenizer_config.json:   0%|          | 0.00/375 [00:00<?, ?B/s]",
      "application/vnd.jupyter.widget-view+json": {
       "version_major": 2,
       "version_minor": 0,
       "model_id": "7861adb6530b4e1ea1b245a362911adf"
      }
     },
     "metadata": {},
     "output_type": "display_data"
    },
    {
     "data": {
      "text/plain": "Downloading (…)solve/main/vocab.txt:   0%|          | 0.00/248k [00:00<?, ?B/s]",
      "application/vnd.jupyter.widget-view+json": {
       "version_major": 2,
       "version_minor": 0,
       "model_id": "460dadac184449e68e127988f80abf3c"
      }
     },
     "metadata": {},
     "output_type": "display_data"
    },
    {
     "data": {
      "text/plain": "Downloading (…)/main/tokenizer.json:   0%|          | 0.00/752k [00:00<?, ?B/s]",
      "application/vnd.jupyter.widget-view+json": {
       "version_major": 2,
       "version_minor": 0,
       "model_id": "4d77f7a21a0c403998b5b25f3efbd516"
      }
     },
     "metadata": {},
     "output_type": "display_data"
    },
    {
     "data": {
      "text/plain": "Downloading (…)cial_tokens_map.json:   0%|          | 0.00/173 [00:00<?, ?B/s]",
      "application/vnd.jupyter.widget-view+json": {
       "version_major": 2,
       "version_minor": 0,
       "model_id": "1bfb4cd9c5fa417197b453614a510a71"
      }
     },
     "metadata": {},
     "output_type": "display_data"
    },
    {
     "data": {
      "text/plain": "[{'score': 0.23150628805160522,\n  'token': 5573,\n  'token_str': '문재인',\n  'sequence': '대한민국의 대통령은 문재인 이다.'},\n {'score': 0.06811545044183731,\n  'token': 4655,\n  'token_str': '박근혜',\n  'sequence': '대한민국의 대통령은 박근혜 이다.'}]"
     },
     "execution_count": 24,
     "metadata": {},
     "output_type": "execute_result"
    }
   ],
   "source": [
    "unmasker = pipeline(\"fill-mask\", model=\"klue/roberta-large\")\n",
    "unmasker(\"대한민국의 대통령은 [MASK] 이다.\", top_k=2)"
   ],
   "metadata": {
    "collapsed": false,
    "ExecuteTime": {
     "end_time": "2023-07-30T01:36:27.833190600Z",
     "start_time": "2023-07-30T01:32:29.564490900Z"
    }
   }
  },
  {
   "cell_type": "code",
   "execution_count": 25,
   "outputs": [
    {
     "data": {
      "text/plain": "[{'score': 0.3697897791862488,\n  'token': 8499,\n  'token_str': '독도',\n  'sequence': '한국의 제일 남쪽에 있는 섬의 이름은 독도 이다.'},\n {'score': 0.19414247572422028,\n  'token': 6530,\n  'token_str': '제주도',\n  'sequence': '한국의 제일 남쪽에 있는 섬의 이름은 제주도 이다.'}]"
     },
     "execution_count": 25,
     "metadata": {},
     "output_type": "execute_result"
    }
   ],
   "source": [
    "unmasker(\"한국의 제일 남쪽에 있는 섬의 이름은 [MASK] 이다.\", top_k=2)"
   ],
   "metadata": {
    "collapsed": false,
    "ExecuteTime": {
     "end_time": "2023-07-30T01:36:33.702936Z",
     "start_time": "2023-07-30T01:36:33.455602100Z"
    }
   }
  },
  {
   "cell_type": "markdown",
   "source": [
    "### Text generation"
   ],
   "metadata": {
    "collapsed": false
   }
  },
  {
   "cell_type": "code",
   "execution_count": 26,
   "outputs": [
    {
     "name": "stderr",
     "output_type": "stream",
     "text": [
      "Special tokens have been added in the vocabulary, make sure the associated word embeddings are fine-tuned or trained.\n",
      "A matching Triton is not available, some optimizations will not be enabled.\n",
      "Error caught was: No module named 'triton'\n"
     ]
    },
    {
     "data": {
      "text/plain": "[{'generated_text': '근육이 커지기 위해서는 수분 함량도 중요하다는 연구 결과가 나왔다.\\n조윤선 서울대 보건대학원 교수가 서울대에 제출한 논문에 따르면 수면장애는 수면의 질을 결정하는 주요 척도 중 하나다.\\n수면 상태에 따라 수면의 질이 달라지기 때문이다.\\n수면의 질이 떨어지면 혈액 속 비타민D 수치가 줄어 수면의 질을 떨어뜨린다.\\n조 교수는 “과거 연구에서는 수면 장애가 뇌의 신경세포에서 분비되는 것을 확인했지만 이번 연구는 뇌 내에서 생성되는 영양 의도가 뇌에 있음을 확인한 것”이라고 했다.\\n영양 부족으로 수면 시간이 길어질 경우 뇌에 있는 에너지 대사량이 떨어지면서 영양 결핍상태가 될 수놀이의 발생이 많아질 수 있다.\\n조 교수는 “미래에 생길 수'}]"
     },
     "execution_count": 26,
     "metadata": {},
     "output_type": "execute_result"
    }
   ],
   "source": [
    "generator = pipeline(\"text-generation\", model=\"skt/kogpt2-base-v2\")\n",
    "generator(\n",
    "    \"근육이 커지기 위해서는\",\n",
    "    max_length=128,\n",
    "    num_return_sequences=1,\n",
    ")"
   ],
   "metadata": {
    "collapsed": false,
    "ExecuteTime": {
     "end_time": "2023-07-30T01:39:02.051694300Z",
     "start_time": "2023-07-30T01:38:49.796993600Z"
    }
   }
  },
  {
   "cell_type": "code",
   "execution_count": 27,
   "outputs": [
    {
     "data": {
      "text/plain": "[{'generated_text': '피부의 조직이 괴사된다면 염증성 장질환으로 나타날 수 있다.\\n특히 장염은 급성 장폐색일 경우 사망에 이를 수 있으며, 특히 어린 자녀를 둔 부모에게서 더 큰 원인으로 지목된다.\\n장폐색은 만성 염증성 장질환으로 진행속도가 빠르며 진행 속도가 빨라지면 사망률이 높아진다.\\n따라서 증상이 발생한 환자일수록 조기 치료가 중요하다.\\n하지만 치료시기를 놓치면 초기 치료가 어려워, 조기 발견에 실패할 수 있어 각별한 주의가 필요하다.\\n또한 장막염 치료는 치료효과가 뛰어나지만 세균학적 염증반응이 있는 경우에는 약물 치료가 필요하다.\\n실제로 장폐색을 발생시키는 주요 원인 중 하나인 포름알데하이드와 그 사이에 존재하는'}]"
     },
     "execution_count": 27,
     "metadata": {},
     "output_type": "execute_result"
    }
   ],
   "source": [
    "generator(\n",
    "    \"피부의 조직이 괴사된다면\",\n",
    "    max_length=128,\n",
    "    num_return_sequences=1,\n",
    ")"
   ],
   "metadata": {
    "collapsed": false,
    "ExecuteTime": {
     "end_time": "2023-07-30T01:39:15.038968Z",
     "start_time": "2023-07-30T01:39:06.704253300Z"
    }
   }
  },
  {
   "cell_type": "code",
   "execution_count": 28,
   "outputs": [
    {
     "data": {
      "text/plain": "[{'generated_text': '가장 좋은 건강법은 무엇일까?\\n당뇨병 고혈압 당뇨 고혈압 당뇨병의 초기 증상으로는 우선 식이요법과 규칙적인 운동, 적당한 운동을 꼽을 수 있다.\\n과거는 운동만 했다면 지금의 운동량은 거의 없고 근력과 척추, 골밀도까지 높여준다는 사실이 통설이지만, 최근에는 운동량이 점점 늘고 있으며 그에 따른 운동능력 향상도 괄목할만한 성과를 내고 있다.\\n운동량이 증가함에 따라 당뇨병 치료 효과도 점점 높아지고 있다.\\n현재 당뇨병 치료는 인슐린 내성을 유발하는 당뇨병 약물을 배제하는 방식으로 진행됐으나, 최근에는 인슐린을 선택적으로 파괴하지 않는 인슐린 내성을 유도한 인슐린을 선택적으로 전환하는 개량된 인슐린 치료법으로 치료 범위가 넓'}]"
     },
     "execution_count": 28,
     "metadata": {},
     "output_type": "execute_result"
    }
   ],
   "source": [
    "generator(\n",
    "    \"가장 좋은 건강법은\",\n",
    "    max_length=128,\n",
    "    num_return_sequences=1,\n",
    ")"
   ],
   "metadata": {
    "collapsed": false,
    "ExecuteTime": {
     "end_time": "2023-07-30T01:39:26.753646200Z",
     "start_time": "2023-07-30T01:39:17.437557100Z"
    }
   }
  },
  {
   "cell_type": "code",
   "execution_count": 29,
   "outputs": [
    {
     "data": {
      "text/plain": "[{'generated_text': \"가장 좋은 한국어 문장 생성 언어 모델은 다음과사건의 의미구조를 나타낸 것으로써 언어, 행동, 기능, 행동 및 사회적 요소들, 사회성, 의미 그리고 심리학적 요소의 분포를 나타낸 것이다.\\n이러한 한국어 표기는 언어 표기와는 상관없이 한국어 문장이 생성되고 배열됨을 시사한다.\\n특히 '다문화 사회'와 '다문화 사회'를 비교해보면 다문화 사회에서의 국어 문법적 구조의 차이를 뚜렷하게 파악할 수 있는데, 이것은 이미 언어 표현 과정에서 언어의 형태 변화에 큰 영향을 미치지 않을 것으로 보인다.\\n그리고 언어와 심리적 형태변동이 서로 밀접하게 연관되어 있기 때문에 언어의 형태 변동은 사회적 맥락, 사회적 맥락, 사회적 작용, 경제적 환경요소들이 서로 상호작용하는 관계를 이해하는 데 중요하다.\\n그러나 언어\"}]"
     },
     "execution_count": 29,
     "metadata": {},
     "output_type": "execute_result"
    }
   ],
   "source": [
    "generator(\n",
    "    \"가장 좋은 한국어 문장 생성 언어 모델은\",\n",
    "    max_length=128,\n",
    "    num_return_sequences=1,\n",
    ")"
   ],
   "metadata": {
    "collapsed": false,
    "ExecuteTime": {
     "end_time": "2023-07-30T01:40:12.284044Z",
     "start_time": "2023-07-30T01:40:04.358237500Z"
    }
   }
  }
 ],
 "metadata": {
  "kernelspec": {
   "display_name": "Python 3",
   "language": "python",
   "name": "python3"
  },
  "language_info": {
   "codemirror_mode": {
    "name": "ipython",
    "version": 2
   },
   "file_extension": ".py",
   "mimetype": "text/x-python",
   "name": "python",
   "nbconvert_exporter": "python",
   "pygments_lexer": "ipython2",
   "version": "2.7.6"
  }
 },
 "nbformat": 4,
 "nbformat_minor": 0
}
