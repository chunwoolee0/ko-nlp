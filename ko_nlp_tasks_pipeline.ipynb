{
 "cells": [
  {
   "cell_type": "markdown",
   "source": [
    "## Document classification (DOC CLS)\n",
    "nmsc datasets\n"
   ],
   "metadata": {
    "collapsed": false
   }
  },
  {
   "cell_type": "code",
   "execution_count": 1,
   "outputs": [
    {
     "name": "stderr",
     "output_type": "stream",
     "text": [
      "A matching Triton is not available, some optimizations will not be enabled.\n",
      "Error caught was: No module named 'triton'\n"
     ]
    }
   ],
   "source": [
    "from transformers import pipeline\n",
    "model_ckpt = \"chunwoolee0/my_doccls_korean_model\"\n",
    "classifier = pipeline(\"sentiment-analysis\",model=model_ckpt)"
   ],
   "metadata": {
    "collapsed": false,
    "ExecuteTime": {
     "end_time": "2023-07-30T00:22:33.228648500Z",
     "start_time": "2023-07-30T00:21:45.130593400Z"
    }
   }
  },
  {
   "cell_type": "code",
   "execution_count": 2,
   "outputs": [
    {
     "data": {
      "text/plain": "[{'label': 'negative', 'score': 0.991716206073761}]"
     },
     "execution_count": 2,
     "metadata": {},
     "output_type": "execute_result"
    }
   ],
   "source": [
    "text = \"왕 짜증난다.\"\n",
    "classifier(text)"
   ],
   "metadata": {
    "collapsed": false,
    "ExecuteTime": {
     "end_time": "2023-07-30T00:22:33.506905400Z",
     "start_time": "2023-07-30T00:22:33.169806700Z"
    }
   }
  },
  {
   "cell_type": "code",
   "execution_count": 3,
   "outputs": [
    {
     "data": {
      "text/plain": "[{'label': 'negative', 'score': 0.5668720602989197}]"
     },
     "execution_count": 3,
     "metadata": {},
     "output_type": "execute_result"
    }
   ],
   "source": [
    "text = '그런대로 무난하다'\n",
    "classifier(text)"
   ],
   "metadata": {
    "collapsed": false,
    "ExecuteTime": {
     "end_time": "2023-07-30T00:22:33.630574Z",
     "start_time": "2023-07-30T00:22:33.509898100Z"
    }
   }
  },
  {
   "cell_type": "code",
   "execution_count": 4,
   "outputs": [
    {
     "data": {
      "text/plain": "[{'label': 'positive', 'score': 0.9369205832481384}]"
     },
     "execution_count": 4,
     "metadata": {},
     "output_type": "execute_result"
    }
   ],
   "source": [
    "text = '잘 만들어졌다'\n",
    "classifier(text)"
   ],
   "metadata": {
    "collapsed": false,
    "ExecuteTime": {
     "end_time": "2023-07-30T00:22:33.755239100Z",
     "start_time": "2023-07-30T00:22:33.632568200Z"
    }
   }
  },
  {
   "cell_type": "markdown",
   "source": [
    "### KLUE/NER Named Entity Recognition\n",
    "KLUE/NER datasets"
   ],
   "metadata": {
    "collapsed": false
   }
  },
  {
   "cell_type": "code",
   "execution_count": 5,
   "outputs": [],
   "source": [
    "model_ckpt = \"chunwoolee0/klue_ner_roberta_model\"\n",
    "token_classifier = pipeline(\n",
    "    \"token-classification\",model=model_ckpt,aggregation_strategy=\"simple\"\n",
    ")"
   ],
   "metadata": {
    "collapsed": false,
    "ExecuteTime": {
     "end_time": "2023-07-30T00:22:36.604620200Z",
     "start_time": "2023-07-30T00:22:33.758231400Z"
    }
   }
  },
  {
   "cell_type": "code",
   "execution_count": 6,
   "outputs": [
    {
     "data": {
      "text/plain": "[{'entity_group': 'OG',\n  'score': 0.99406624,\n  'word': '삼성',\n  'start': 5,\n  'end': 7}]"
     },
     "execution_count": 6,
     "metadata": {},
     "output_type": "execute_result"
    }
   ],
   "source": [
    "token_classifier(\"그 제품 삼성 건가요?\")"
   ],
   "metadata": {
    "collapsed": false,
    "ExecuteTime": {
     "end_time": "2023-07-30T00:22:36.697372400Z",
     "start_time": "2023-07-30T00:22:36.606614200Z"
    }
   }
  },
  {
   "cell_type": "code",
   "execution_count": 7,
   "outputs": [
    {
     "data": {
      "text/plain": "[{'entity_group': 'LC',\n  'score': 0.7193408,\n  'word': '한국',\n  'start': 0,\n  'end': 2},\n {'entity_group': 'DT',\n  'score': 0.99358654,\n  'word': '11년',\n  'start': 4,\n  'end': 7},\n {'entity_group': 'OG',\n  'score': 0.9899345,\n  'word': '유엔',\n  'start': 10,\n  'end': 12},\n {'entity_group': 'OG',\n  'score': 0.93576443,\n  'word': '안보리',\n  'start': 13,\n  'end': 16}]"
     },
     "execution_count": 7,
     "metadata": {},
     "output_type": "execute_result"
    }
   ],
   "source": [
    "token_classifier(\"한국, 11년만에 유엔 안보리 비상임이사국 재진입\")"
   ],
   "metadata": {
    "collapsed": false,
    "ExecuteTime": {
     "end_time": "2023-07-30T00:22:36.839990800Z",
     "start_time": "2023-07-30T00:22:36.699368600Z"
    }
   }
  },
  {
   "cell_type": "code",
   "execution_count": 8,
   "outputs": [
    {
     "data": {
      "text/plain": "[{'entity_group': 'PS',\n  'score': 0.99813867,\n  'word': '류더인',\n  'start': 0,\n  'end': 3},\n {'entity_group': 'OG',\n  'score': 0.7399859,\n  'word': '대만',\n  'start': 4,\n  'end': 6},\n {'entity_group': 'OG',\n  'score': 0.9961631,\n  'word': 'TSMC',\n  'start': 7,\n  'end': 11}]"
     },
     "execution_count": 8,
     "metadata": {},
     "output_type": "execute_result"
    }
   ],
   "source": [
    "token_classifier(\"류더인 대만 TSMC 회장도 현지 콘퍼런스에서 “받아들일 수 없는 일부 조건이 있다”고 언급한 바 있다.\")"
   ],
   "metadata": {
    "collapsed": false,
    "ExecuteTime": {
     "end_time": "2023-07-30T00:22:36.998566900Z",
     "start_time": "2023-07-30T00:22:36.842984100Z"
    }
   }
  },
  {
   "cell_type": "markdown",
   "source": [
    "### KLUE/YNAT Subject Classification"
   ],
   "metadata": {
    "collapsed": false
   }
  },
  {
   "cell_type": "code",
   "execution_count": 9,
   "outputs": [
    {
     "name": "stderr",
     "output_type": "stream",
     "text": [
      "C:\\Users\\clee\\venv10\\lib\\site-packages\\transformers\\pipelines\\text_classification.py:104: UserWarning: `return_all_scores` is now deprecated,  if want a similar funcionality use `top_k=None` instead of `return_all_scores=True` or `top_k=1` instead of `return_all_scores=False`.\n",
      "  warnings.warn(\n"
     ]
    }
   ],
   "source": [
    "model_checkpoint = \"chunwoolee0/klue_ynat_roberta_base_model\"\n",
    "classifier = pipeline(\"text-classification\",model=model_checkpoint,\n",
    "                      return_all_scores=True)"
   ],
   "metadata": {
    "collapsed": false,
    "ExecuteTime": {
     "end_time": "2023-07-30T00:22:40.067370400Z",
     "start_time": "2023-07-30T00:22:36.998566900Z"
    }
   }
  },
  {
   "cell_type": "code",
   "execution_count": 10,
   "outputs": [
    {
     "data": {
      "text/plain": "[[{'label': 'IT과학', 'score': 0.9807253479957581},\n  {'label': '경제', 'score': 0.0025139665231108665},\n  {'label': '사회', 'score': 0.0065391287207603455},\n  {'label': '생활문화', 'score': 0.00149971479550004},\n  {'label': '세계', 'score': 0.004847498144954443},\n  {'label': '스포츠', 'score': 0.0024945028126239777},\n  {'label': '정치', 'score': 0.0013798086438328028}]]"
     },
     "execution_count": 10,
     "metadata": {},
     "output_type": "execute_result"
    }
   ],
   "source": [
    "title = \"항응고제 성분 코로나19에 효과…세포실험서 확인\"\n",
    "classifier(title)"
   ],
   "metadata": {
    "collapsed": false,
    "ExecuteTime": {
     "end_time": "2023-07-30T00:22:40.180061100Z",
     "start_time": "2023-07-30T00:22:40.071351900Z"
    }
   }
  },
  {
   "cell_type": "code",
   "execution_count": 11,
   "outputs": [
    {
     "data": {
      "text/plain": "[[{'label': 'IT과학', 'score': 0.0007026148377917707},\n  {'label': '경제', 'score': 0.0017282568151131272},\n  {'label': '사회', 'score': 0.003673239378258586},\n  {'label': '생활문화', 'score': 0.9890350699424744},\n  {'label': '세계', 'score': 0.0017089156899601221},\n  {'label': '스포츠', 'score': 0.0022249321918934584},\n  {'label': '정치', 'score': 0.0009269161964766681}]]"
     },
     "execution_count": 11,
     "metadata": {},
     "output_type": "execute_result"
    }
   ],
   "source": [
    "title = \"뮤지컬 영웅 합류한 안재욱 정성화와 다른 안중근 보여줄것\"\n",
    "classifier(title)"
   ],
   "metadata": {
    "collapsed": false,
    "ExecuteTime": {
     "end_time": "2023-07-30T00:22:40.286775500Z",
     "start_time": "2023-07-30T00:22:40.181057400Z"
    }
   }
  },
  {
   "cell_type": "code",
   "execution_count": 12,
   "outputs": [
    {
     "data": {
      "text/plain": "[[{'label': 'IT과학', 'score': 0.002564449794590473},\n  {'label': '경제', 'score': 0.04233933985233307},\n  {'label': '사회', 'score': 0.9437140226364136},\n  {'label': '생활문화', 'score': 0.003957194276154041},\n  {'label': '세계', 'score': 0.0020921467803418636},\n  {'label': '스포츠', 'score': 0.0013872859999537468},\n  {'label': '정치', 'score': 0.003945556003600359}]]"
     },
     "execution_count": 12,
     "metadata": {},
     "output_type": "execute_result"
    }
   ],
   "source": [
    "title = \"MBN 노조 부동산 물적분할 중단하고 소유경영 분리해야\"\n",
    "classifier(title)"
   ],
   "metadata": {
    "collapsed": false,
    "ExecuteTime": {
     "end_time": "2023-07-30T00:22:40.381522800Z",
     "start_time": "2023-07-30T00:22:40.281787500Z"
    }
   }
  },
  {
   "cell_type": "markdown",
   "source": [
    "### KLUE/NLI  Natural Language Inference\n",
    "Similarity relation between two sentences.\n",
    "Entailment, contraction, neutral"
   ],
   "metadata": {
    "collapsed": false
   }
  },
  {
   "cell_type": "code",
   "execution_count": 19,
   "outputs": [],
   "source": [
    "from transformers import pipeline\n",
    "model_checkpoint = \"chunwoolee0/klue_nli_roberta_base_model\"\n",
    "classifier = pipeline(\"text-classification\",model=model_checkpoint,return_all_scores=True)"
   ],
   "metadata": {
    "collapsed": false,
    "ExecuteTime": {
     "end_time": "2023-07-30T00:23:21.564405500Z",
     "start_time": "2023-07-30T00:23:19.756239600Z"
    }
   }
  },
  {
   "cell_type": "code",
   "execution_count": 20,
   "outputs": [
    {
     "data": {
      "text/plain": "[[{'label': 'entailment', 'score': 0.0007746085175313056},\n  {'label': 'neutral', 'score': 0.7450382709503174},\n  {'label': 'contradiction', 'score': 0.25418704748153687}]]"
     },
     "execution_count": 20,
     "metadata": {},
     "output_type": "execute_result"
    }
   ],
   "source": [
    "premise=\"나는 오늘 공원에서 친구를 만났다\"\n",
    "hypothesis = \"나는 오늘 학교에 갔다\"\n",
    "classifier(\" \".join([premise, hypothesis]), padding=True, truncation=True)"
   ],
   "metadata": {
    "collapsed": false,
    "ExecuteTime": {
     "end_time": "2023-07-30T00:23:21.696053500Z",
     "start_time": "2023-07-30T00:23:21.544459600Z"
    }
   }
  },
  {
   "cell_type": "code",
   "execution_count": 21,
   "outputs": [
    {
     "data": {
      "text/plain": "[[{'label': 'entailment', 'score': 0.0007672435604035854},\n  {'label': 'neutral', 'score': 0.0002904852444771677},\n  {'label': 'contradiction', 'score': 0.9989423155784607}]]"
     },
     "execution_count": 21,
     "metadata": {},
     "output_type": "execute_result"
    }
   ],
   "source": [
    "premise=\"100분간 잘껄 그래도 소닉붐땜에 2점준다\"\n",
    "hypothesis = \"100분간 잤다.\t\"\n",
    "classifier(\" \".join([premise, hypothesis]), padding=True, truncation=True)"
   ],
   "metadata": {
    "collapsed": false,
    "ExecuteTime": {
     "end_time": "2023-07-30T00:23:21.820720300Z",
     "start_time": "2023-07-30T00:23:21.700043100Z"
    }
   }
  },
  {
   "cell_type": "code",
   "execution_count": 22,
   "outputs": [
    {
     "data": {
      "text/plain": "[[{'label': 'entailment', 'score': 0.0006482962053269148},\n  {'label': 'neutral', 'score': 0.9990056157112122},\n  {'label': 'contradiction', 'score': 0.0003460997249931097}]]"
     },
     "execution_count": 22,
     "metadata": {},
     "output_type": "execute_result"
    }
   ],
   "source": [
    "premise=\"100분간 잘껄 그래도 소닉붐땜에 2점준다\"\n",
    "hypothesis = \"소닉붐이 정말 멋있었다.\t\"\n",
    "classifier(\" \".join([premise, hypothesis]), padding=True, truncation=True)"
   ],
   "metadata": {
    "collapsed": false,
    "ExecuteTime": {
     "end_time": "2023-07-30T00:23:22.195717Z",
     "start_time": "2023-07-30T00:23:22.080027600Z"
    }
   }
  },
  {
   "cell_type": "code",
   "execution_count": 23,
   "outputs": [
    {
     "data": {
      "text/plain": "[[{'label': 'entailment', 'score': 0.9980097413063049},\n  {'label': 'neutral', 'score': 0.0015507685020565987},\n  {'label': 'contradiction', 'score': 0.00043947319500148296}]]"
     },
     "execution_count": 23,
     "metadata": {},
     "output_type": "execute_result"
    }
   ],
   "source": [
    "premise=\"힛걸 진심 최고다 그 어떤 히어로보다 멋지다\"\n",
    "hypothesis = \"힛걸 진심 최고로 멋지다.\t\"\n",
    "classifier(\" \".join([premise, hypothesis]), padding=True, truncation=True)"
   ],
   "metadata": {
    "collapsed": false,
    "ExecuteTime": {
     "end_time": "2023-07-30T00:23:23.102293800Z",
     "start_time": "2023-07-30T00:23:22.942722Z"
    }
   }
  },
  {
   "cell_type": "code",
   "execution_count": 24,
   "outputs": [
    {
     "data": {
      "text/plain": "[[{'label': 'entailment', 'score': 0.9983177185058594},\n  {'label': 'neutral', 'score': 0.0011992745567113161},\n  {'label': 'contradiction', 'score': 0.00048302908544428647}]]"
     },
     "execution_count": 24,
     "metadata": {},
     "output_type": "execute_result"
    }
   ],
   "source": [
    "premise=\"10분내외 주변에 마트가 3곳이 있습니다.\"\n",
    "hypothesis = \"가까이에 마트가 있습니다.\"\n",
    "classifier(\" \".join([premise, hypothesis]), padding=True, truncation=True)"
   ],
   "metadata": {
    "collapsed": false,
    "ExecuteTime": {
     "end_time": "2023-07-30T00:23:24.303082300Z",
     "start_time": "2023-07-30T00:23:23.676758100Z"
    }
   }
  },
  {
   "cell_type": "code",
   "execution_count": 25,
   "outputs": [
    {
     "data": {
      "text/plain": "[[{'label': 'entailment', 'score': 0.0009692633175291121},\n  {'label': 'neutral', 'score': 0.0009046163759194314},\n  {'label': 'contradiction', 'score': 0.9981260895729065}]]"
     },
     "execution_count": 25,
     "metadata": {},
     "output_type": "execute_result"
    }
   ],
   "source": [
    "premise=\"10살 소년 우주는 어느 날 집 대청소를 하던 중 천재 과학자인 할아버지, 용이 남긴 물건을 발견한다.\"\n",
    "hypothesis = \"우주는 천재 과학자 용의 손녀이다.\"\n",
    "classifier(\" \".join([premise, hypothesis]), padding=True, truncation=True)"
   ],
   "metadata": {
    "collapsed": false,
    "ExecuteTime": {
     "end_time": "2023-07-30T00:23:24.616245200Z",
     "start_time": "2023-07-30T00:23:24.408800500Z"
    }
   }
  },
  {
   "cell_type": "code",
   "execution_count": 26,
   "outputs": [
    {
     "data": {
      "text/plain": "[[{'label': 'entailment', 'score': 0.9984384179115295},\n  {'label': 'neutral', 'score': 0.000982145662419498},\n  {'label': 'contradiction', 'score': 0.0005794004537165165}]]"
     },
     "execution_count": 26,
     "metadata": {},
     "output_type": "execute_result"
    }
   ],
   "source": [
    "premise=\"10살 소년 우주는 어느 날 집 대청소를 하던 중 천재 과학자인 할아버지, 용이 남긴 물건을 발견한다.\"\n",
    "hypothesis = \"우주의 할아버지 용은 천재 과학자이다.\"\n",
    "classifier(\" \".join([premise, hypothesis]), padding=True, truncation=True)"
   ],
   "metadata": {
    "collapsed": false,
    "ExecuteTime": {
     "end_time": "2023-07-30T00:23:25.319366400Z",
     "start_time": "2023-07-30T00:23:25.158794600Z"
    }
   }
  },
  {
   "cell_type": "markdown",
   "source": [
    "### Translation\n",
    "From english to korean"
   ],
   "metadata": {
    "collapsed": false
   }
  },
  {
   "cell_type": "code",
   "execution_count": 6,
   "outputs": [
    {
     "name": "stderr",
     "output_type": "stream",
     "text": [
      "You passed along `num_labels=3` with an incompatible id to label map: {'0': 'NEGATIVE', '1': 'POSITIVE'}. The number of labels wil be overwritten to 2.\n",
      "You passed along `num_labels=3` with an incompatible id to label map: {'0': 'NEGATIVE', '1': 'POSITIVE'}. The number of labels wil be overwritten to 2.\n",
      "Your input_length: 25 is bigger than 0.9 * max_length: 20. You might consider increasing your max_length manually, e.g. translator('...', max_length=400)\n"
     ]
    },
    {
     "data": {
      "text/plain": "[{'translation_text': '이 코스는 Hugging Face에서 제작합니다. @ info'}]"
     },
     "execution_count": 6,
     "metadata": {},
     "output_type": "execute_result"
    }
   ],
   "source": [
    "from transformers import pipeline\n",
    "\n",
    "translator = pipeline(\"translation\", model=\"chunwoolee0/circulus-kobart-en-to-ko\")\n",
    "translator(\"This course is produced by Hugging Face.\")"
   ],
   "metadata": {
    "collapsed": false,
    "ExecuteTime": {
     "end_time": "2023-07-30T00:53:39.500898100Z",
     "start_time": "2023-07-30T00:53:28.518264200Z"
    }
   }
  },
  {
   "cell_type": "code",
   "execution_count": 7,
   "outputs": [
    {
     "data": {
      "text/plain": "[{'translation_text': '아침을 먹었습니다. @ info: whatsthis '}]"
     },
     "execution_count": 7,
     "metadata": {},
     "output_type": "execute_result"
    }
   ],
   "source": [
    "translator(\"I ate the breakfast.\")"
   ],
   "metadata": {
    "collapsed": false,
    "ExecuteTime": {
     "end_time": "2023-07-30T00:53:51.435984700Z",
     "start_time": "2023-07-30T00:53:45.076989800Z"
    }
   }
  },
  {
   "cell_type": "code",
   "execution_count": 8,
   "outputs": [
    {
     "name": "stderr",
     "output_type": "stream",
     "text": [
      "Your input_length: 19 is bigger than 0.9 * max_length: 20. You might consider increasing your max_length manually, e.g. translator('...', max_length=400)\n"
     ]
    },
    {
     "data": {
      "text/plain": "[{'translation_text': '* 4, 6 등은 짝수입니다. Name of the user, '}]"
     },
     "execution_count": 8,
     "metadata": {},
     "output_type": "execute_result"
    }
   ],
   "source": [
    "translator(\"2, 4, 6 etc. are even numbers.\")"
   ],
   "metadata": {
    "collapsed": false,
    "ExecuteTime": {
     "end_time": "2023-07-30T00:54:12.435834800Z",
     "start_time": "2023-07-30T00:54:10.012317900Z"
    }
   }
  },
  {
   "cell_type": "code",
   "execution_count": 9,
   "outputs": [
    {
     "name": "stderr",
     "output_type": "stream",
     "text": [
      "Your input_length: 51 is bigger than 0.9 * max_length: 20. You might consider increasing your max_length manually, e.g. translator('...', max_length=400)\n"
     ]
    },
    {
     "data": {
      "text/plain": "[{'translation_text': '금융 세계에 종합적인 통신과 업무를 수행할 수 있는 기능을 추가할 것입니다N'}]"
     },
     "execution_count": 9,
     "metadata": {},
     "output_type": "execute_result"
    }
   ],
   "source": [
    "translator(\"we will add comprehensive communications and the ability to conduct your entire financial world\")"
   ],
   "metadata": {
    "collapsed": false,
    "ExecuteTime": {
     "end_time": "2023-07-30T00:58:26.213277800Z",
     "start_time": "2023-07-30T00:58:21.827008400Z"
    }
   }
  },
  {
   "cell_type": "code",
   "execution_count": 10,
   "outputs": [
    {
     "name": "stderr",
     "output_type": "stream",
     "text": [
      "Your input_length: 88 is bigger than 0.9 * max_length: 20. You might consider increasing your max_length manually, e.g. translator('...', max_length=400)\n"
     ]
    },
    {
     "data": {
      "text/plain": "[{'translation_text': '알 수 있듯이 영어 토큰나이저를 사용하여 프랑스어 문장을 처리하면'}]"
     },
     "execution_count": 10,
     "metadata": {},
     "output_type": "execute_result"
    }
   ],
   "source": [
    "translator(\"As we can see, using the English tokenizer to preprocess a French sentence results in a lot more tokens, since the tokenizer doesn’t know any French words\")"
   ],
   "metadata": {
    "collapsed": false,
    "ExecuteTime": {
     "end_time": "2023-07-30T01:05:49.147208400Z",
     "start_time": "2023-07-30T01:05:48.112974700Z"
    }
   }
  },
  {
   "cell_type": "code",
   "execution_count": 11,
   "outputs": [
    {
     "name": "stderr",
     "output_type": "stream",
     "text": [
      "Your input_length: 42 is bigger than 0.9 * max_length: 20. You might consider increasing your max_length manually, e.g. translator('...', max_length=400)\n"
     ]
    },
    {
     "data": {
      "text/plain": "[{'translation_text': '마지막 단계는 데이터셋에 적용할 전처리 함수를 정의하는 것입니다Nam'}]"
     },
     "execution_count": 11,
     "metadata": {},
     "output_type": "execute_result"
    }
   ],
   "source": [
    "translator(\"the last step is to define the preprocessing function we will apply on the datasets\")"
   ],
   "metadata": {
    "collapsed": false,
    "ExecuteTime": {
     "end_time": "2023-07-30T01:06:22.051746500Z",
     "start_time": "2023-07-30T01:06:21.157140500Z"
    }
   }
  },
  {
   "cell_type": "markdown",
   "source": [
    "### Fill mask"
   ],
   "metadata": {
    "collapsed": false
   }
  },
  {
   "cell_type": "code",
   "execution_count": 13,
   "outputs": [
    {
     "name": "stderr",
     "output_type": "stream",
     "text": [
      "Some weights of the model checkpoint at klue/bert-base were not used when initializing BertForMaskedLM: ['cls.seq_relationship.weight', 'cls.seq_relationship.bias']\n",
      "- This IS expected if you are initializing BertForMaskedLM from the checkpoint of a model trained on another task or with another architecture (e.g. initializing a BertForSequenceClassification model from a BertForPreTraining model).\n",
      "- This IS NOT expected if you are initializing BertForMaskedLM from the checkpoint of a model that you expect to be exactly identical (initializing a BertForSequenceClassification model from a BertForSequenceClassification model).\n"
     ]
    },
    {
     "data": {
      "text/plain": "[{'score': 0.5954664945602417,\n  'token': 3671,\n  'token_str': '서울',\n  'sequence': '대한민국의 수도는 서울 이다.'},\n {'score': 0.08106383681297302,\n  'token': 9474,\n  'token_str': '광화문',\n  'sequence': '대한민국의 수도는 광화문 이다.'},\n {'score': 0.04720234498381615,\n  'token': 7141,\n  'token_str': '평양',\n  'sequence': '대한민국의 수도는 평양 이다.'},\n {'score': 0.02944554202258587,\n  'token': 3902,\n  'token_str': '부산',\n  'sequence': '대한민국의 수도는 부산 이다.'},\n {'score': 0.02646556682884693,\n  'token': 4068,\n  'token_str': '인천',\n  'sequence': '대한민국의 수도는 인천 이다.'}]"
     },
     "execution_count": 13,
     "metadata": {},
     "output_type": "execute_result"
    }
   ],
   "source": [
    "from transformers import pipeline\n",
    "\n",
    "unmasker = pipeline(\"fill-mask\", model=\"klue/bert-base\")\n",
    "unmasker(\"대한민국의 수도는 [MASK] 이다.\")"
   ],
   "metadata": {
    "collapsed": false,
    "ExecuteTime": {
     "end_time": "2023-07-30T01:09:44.052020600Z",
     "start_time": "2023-07-30T01:09:40.335738100Z"
    }
   }
  },
  {
   "cell_type": "code",
   "execution_count": 14,
   "outputs": [
    {
     "data": {
      "text/plain": "[{'score': 0.27408918738365173,\n  'token': 5573,\n  'token_str': '문재인',\n  'sequence': '대한민국의 대통령은 문재인 이다.'},\n {'score': 0.13360512256622314,\n  'token': 4655,\n  'token_str': '박근혜',\n  'sequence': '대한민국의 대통령은 박근혜 이다.'}]"
     },
     "execution_count": 14,
     "metadata": {},
     "output_type": "execute_result"
    }
   ],
   "source": [
    "unmasker(\"대한민국의 대통령은 [MASK] 이다.\", top_k=2)"
   ],
   "metadata": {
    "collapsed": false,
    "ExecuteTime": {
     "end_time": "2023-07-30T01:10:16.506237200Z",
     "start_time": "2023-07-30T01:10:16.414486900Z"
    }
   }
  },
  {
   "cell_type": "code",
   "execution_count": 15,
   "outputs": [
    {
     "data": {
      "text/plain": "[{'score': 0.03400537371635437,\n  'token': 3956,\n  'token_str': '50',\n  'sequence': '한국인의 평균수명은 50 이다.'},\n {'score': 0.03295913711190224,\n  'token': 1,\n  'token_str': '[UNK]',\n  'sequence': '한국인의 평균수명은 이다.'}]"
     },
     "execution_count": 15,
     "metadata": {},
     "output_type": "execute_result"
    }
   ],
   "source": [
    "unmasker(\"한국인의 평균수명은 [MASK] 이다.\", top_k=2)"
   ],
   "metadata": {
    "collapsed": false,
    "ExecuteTime": {
     "end_time": "2023-07-30T01:10:28.538050900Z",
     "start_time": "2023-07-30T01:10:28.444303100Z"
    }
   }
  },
  {
   "cell_type": "markdown",
   "source": [
    "위의 klue/bert-base에 의한 한국인의 평균수명에 대해 좋지 않은 결과를 얻었다.\n",
    "다른 모델을 사용하자."
   ],
   "metadata": {
    "collapsed": false
   }
  },
  {
   "cell_type": "code",
   "execution_count": 16,
   "outputs": [
    {
     "data": {
      "text/plain": "[{'score': 0.1217661052942276,\n  'token': 4684,\n  'token_str': '80',\n  'sequence': '한국인의 평균수명은 80 이다.'},\n {'score': 0.06582553684711456,\n  'token': 4531,\n  'token_str': '70',\n  'sequence': '한국인의 평균수명은 70 이다.'}]"
     },
     "execution_count": 16,
     "metadata": {},
     "output_type": "execute_result"
    }
   ],
   "source": [
    "unmasker = pipeline(\"fill-mask\", model=\"klue/roberta-base\")\n",
    "unmasker(\"한국인의 평균수명은 [MASK] 이다.\", top_k=2)"
   ],
   "metadata": {
    "collapsed": false,
    "ExecuteTime": {
     "end_time": "2023-07-30T01:12:20.289066300Z",
     "start_time": "2023-07-30T01:12:16.535104100Z"
    }
   }
  },
  {
   "cell_type": "code",
   "execution_count": 17,
   "outputs": [
    {
     "data": {
      "text/plain": "[{'score': 0.6443958282470703,\n  'token': 5573,\n  'token_str': '문재인',\n  'sequence': '대한민국의 대통령은 문재인 이다.'},\n {'score': 0.13501475751399994,\n  'token': 4655,\n  'token_str': '박근혜',\n  'sequence': '대한민국의 대통령은 박근혜 이다.'}]"
     },
     "execution_count": 17,
     "metadata": {},
     "output_type": "execute_result"
    }
   ],
   "source": [
    "unmasker(\"대한민국의 대통령은 [MASK] 이다.\", top_k=2)"
   ],
   "metadata": {
    "collapsed": false,
    "ExecuteTime": {
     "end_time": "2023-07-30T01:12:30.467850600Z",
     "start_time": "2023-07-30T01:12:30.384074300Z"
    }
   }
  },
  {
   "cell_type": "code",
   "execution_count": 18,
   "outputs": [
    {
     "data": {
      "text/plain": "[{'score': 0.326753705739975,\n  'token': 8499,\n  'token_str': '독도',\n  'sequence': '한국의 제일 남쪽에 있는 섬의 이름은 독도 이다.'},\n {'score': 0.07274088263511658,\n  'token': 1,\n  'token_str': '[PAD]',\n  'sequence': '한국의 제일 남쪽에 있는 섬의 이름은 이다.'}]"
     },
     "execution_count": 18,
     "metadata": {},
     "output_type": "execute_result"
    }
   ],
   "source": [
    "unmasker = pipeline(\"fill-mask\", model=\"klue/roberta-base\")\n",
    "unmasker(\"한국의 제일 남쪽에 있는 섬의 이름은 [MASK] 이다.\", top_k=2)"
   ],
   "metadata": {
    "collapsed": false,
    "ExecuteTime": {
     "end_time": "2023-07-30T01:13:26.725446400Z",
     "start_time": "2023-07-30T01:13:24.468481500Z"
    }
   }
  },
  {
   "cell_type": "markdown",
   "source": [],
   "metadata": {
    "collapsed": false
   }
  },
  {
   "cell_type": "markdown",
   "source": [
    "위의 결과는 좋지 않다. fine-tuning 할 필요가 있어 보인다. 어떤 데이터를 쓸까?"
   ],
   "metadata": {
    "collapsed": false
   }
  },
  {
   "cell_type": "code",
   "execution_count": 24,
   "outputs": [
    {
     "data": {
      "text/plain": "Downloading (…)lve/main/config.json:   0%|          | 0.00/547 [00:00<?, ?B/s]",
      "application/vnd.jupyter.widget-view+json": {
       "version_major": 2,
       "version_minor": 0,
       "model_id": "f1474c47159c4642a91e852cb2f4d188"
      }
     },
     "metadata": {},
     "output_type": "display_data"
    },
    {
     "data": {
      "text/plain": "Downloading model.safetensors:   0%|          | 0.00/1.35G [00:00<?, ?B/s]",
      "application/vnd.jupyter.widget-view+json": {
       "version_major": 2,
       "version_minor": 0,
       "model_id": "6801346bf09a4a00afa4717ed5dbaf7e"
      }
     },
     "metadata": {},
     "output_type": "display_data"
    },
    {
     "data": {
      "text/plain": "Downloading (…)okenizer_config.json:   0%|          | 0.00/375 [00:00<?, ?B/s]",
      "application/vnd.jupyter.widget-view+json": {
       "version_major": 2,
       "version_minor": 0,
       "model_id": "7861adb6530b4e1ea1b245a362911adf"
      }
     },
     "metadata": {},
     "output_type": "display_data"
    },
    {
     "data": {
      "text/plain": "Downloading (…)solve/main/vocab.txt:   0%|          | 0.00/248k [00:00<?, ?B/s]",
      "application/vnd.jupyter.widget-view+json": {
       "version_major": 2,
       "version_minor": 0,
       "model_id": "460dadac184449e68e127988f80abf3c"
      }
     },
     "metadata": {},
     "output_type": "display_data"
    },
    {
     "data": {
      "text/plain": "Downloading (…)/main/tokenizer.json:   0%|          | 0.00/752k [00:00<?, ?B/s]",
      "application/vnd.jupyter.widget-view+json": {
       "version_major": 2,
       "version_minor": 0,
       "model_id": "4d77f7a21a0c403998b5b25f3efbd516"
      }
     },
     "metadata": {},
     "output_type": "display_data"
    },
    {
     "data": {
      "text/plain": "Downloading (…)cial_tokens_map.json:   0%|          | 0.00/173 [00:00<?, ?B/s]",
      "application/vnd.jupyter.widget-view+json": {
       "version_major": 2,
       "version_minor": 0,
       "model_id": "1bfb4cd9c5fa417197b453614a510a71"
      }
     },
     "metadata": {},
     "output_type": "display_data"
    },
    {
     "data": {
      "text/plain": "[{'score': 0.23150628805160522,\n  'token': 5573,\n  'token_str': '문재인',\n  'sequence': '대한민국의 대통령은 문재인 이다.'},\n {'score': 0.06811545044183731,\n  'token': 4655,\n  'token_str': '박근혜',\n  'sequence': '대한민국의 대통령은 박근혜 이다.'}]"
     },
     "execution_count": 24,
     "metadata": {},
     "output_type": "execute_result"
    }
   ],
   "source": [
    "unmasker = pipeline(\"fill-mask\", model=\"klue/roberta-large\")\n",
    "unmasker(\"대한민국의 대통령은 [MASK] 이다.\", top_k=2)"
   ],
   "metadata": {
    "collapsed": false,
    "ExecuteTime": {
     "end_time": "2023-07-30T01:36:27.833190600Z",
     "start_time": "2023-07-30T01:32:29.564490900Z"
    }
   }
  },
  {
   "cell_type": "code",
   "execution_count": 25,
   "outputs": [
    {
     "data": {
      "text/plain": "[{'score': 0.3697897791862488,\n  'token': 8499,\n  'token_str': '독도',\n  'sequence': '한국의 제일 남쪽에 있는 섬의 이름은 독도 이다.'},\n {'score': 0.19414247572422028,\n  'token': 6530,\n  'token_str': '제주도',\n  'sequence': '한국의 제일 남쪽에 있는 섬의 이름은 제주도 이다.'}]"
     },
     "execution_count": 25,
     "metadata": {},
     "output_type": "execute_result"
    }
   ],
   "source": [
    "unmasker(\"한국의 제일 남쪽에 있는 섬의 이름은 [MASK] 이다.\", top_k=2)"
   ],
   "metadata": {
    "collapsed": false,
    "ExecuteTime": {
     "end_time": "2023-07-30T01:36:33.702936Z",
     "start_time": "2023-07-30T01:36:33.455602100Z"
    }
   }
  },
  {
   "cell_type": "code",
   "execution_count": 1,
   "outputs": [
    {
     "data": {
      "text/plain": "Downloading (…)lve/main/config.json:   0%|          | 0.00/463 [00:00<?, ?B/s]",
      "application/vnd.jupyter.widget-view+json": {
       "version_major": 2,
       "version_minor": 0,
       "model_id": "ec9e106994a64cce81fdebc9c69c9076"
      }
     },
     "metadata": {},
     "output_type": "display_data"
    },
    {
     "name": "stderr",
     "output_type": "stream",
     "text": [
      "C:\\Users\\clee\\venv10\\lib\\site-packages\\huggingface_hub\\file_download.py:133: UserWarning: `huggingface_hub` cache-system uses symlinks by default to efficiently store duplicated files but your machine does not support them in C:\\Users\\clee\\.cache\\huggingface\\hub. Caching files will still work but in a degraded version that might require more space on your disk. This warning can be disabled by setting the `HF_HUB_DISABLE_SYMLINKS_WARNING` environment variable. For more details, see https://huggingface.co/docs/huggingface_hub/how-to-cache#limitations.\n",
      "To support symlinks on Windows, you either need to activate Developer Mode or to run Python as an administrator. In order to see activate developer mode, see this article: https://docs.microsoft.com/en-us/windows/apps/get-started/enable-your-device-for-development\n",
      "  warnings.warn(message)\n"
     ]
    },
    {
     "data": {
      "text/plain": "Downloading model.safetensors:   0%|          | 0.00/149M [00:00<?, ?B/s]",
      "application/vnd.jupyter.widget-view+json": {
       "version_major": 2,
       "version_minor": 0,
       "model_id": "884c7b39d4e34d7d867a130553ec991c"
      }
     },
     "metadata": {},
     "output_type": "display_data"
    },
    {
     "data": {
      "text/plain": "Downloading (…)okenizer_config.json:   0%|          | 0.00/61.0 [00:00<?, ?B/s]",
      "application/vnd.jupyter.widget-view+json": {
       "version_major": 2,
       "version_minor": 0,
       "model_id": "5260fd3d6b1040aa84d75800c0b95350"
      }
     },
     "metadata": {},
     "output_type": "display_data"
    },
    {
     "data": {
      "text/plain": "Downloading (…)solve/main/vocab.txt:   0%|          | 0.00/263k [00:00<?, ?B/s]",
      "application/vnd.jupyter.widget-view+json": {
       "version_major": 2,
       "version_minor": 0,
       "model_id": "cad9efacc52b44859ab86f8f0f767a65"
      }
     },
     "metadata": {},
     "output_type": "display_data"
    },
    {
     "name": "stdout",
     "output_type": "stream",
     "text": [
      "[{'score': 0.0937100425362587, 'token': 13195, 'token_str': '방금', 'sequence': '나는 방금 밥을 먹었다.'}, {'score': 0.04330400377511978, 'token': 15286, 'token_str': '이렇게', 'sequence': '나는 이렇게 밥을 먹었다.'}, {'score': 0.042322538793087006, 'token': 8108, 'token_str': '어제', 'sequence': '나는 어제 밥을 먹었다.'}, {'score': 0.03583364933729172, 'token': 6451, 'token_str': '오늘', 'sequence': '나는 오늘 밥을 먹었다.'}, {'score': 0.029748983681201935, 'token': 8961, 'token_str': '그날', 'sequence': '나는 그날 밥을 먹었다.'}]\n"
     ]
    }
   ],
   "source": [
    "from transformers import pipeline\n",
    "\n",
    "fill_mask = pipeline(\n",
    "    \"fill-mask\",\n",
    "    model=\"monologg/koelectra-base-v3-generator\",\n",
    "    tokenizer=\"monologg/koelectra-base-v3-generator\"\n",
    ")\n",
    "\n",
    "print(fill_mask(\"나는 {} 밥을 먹었다.\".format(fill_mask.tokenizer.mask_token)))"
   ],
   "metadata": {
    "collapsed": false,
    "ExecuteTime": {
     "end_time": "2023-07-30T23:54:50.003925300Z",
     "start_time": "2023-07-30T23:54:12.655914200Z"
    }
   }
  },
  {
   "cell_type": "code",
   "execution_count": 3,
   "outputs": [
    {
     "name": "stdout",
     "output_type": "stream",
     "text": [
      "[{'score': 0.15272337198257446, 'token': 2920, 'token_str': '섬', 'sequence': '한국의 제일 남쪽에 있는 섬은 섬 이다.'}, {'score': 0.055909112095832825, 'token': 1, 'token_str': '[UNK]', 'sequence': '한국의 제일 남쪽에 있는 섬은 이다.'}, {'score': 0.026947638019919395, 'token': 6320, 'token_str': '일본', 'sequence': '한국의 제일 남쪽에 있는 섬은 일본 이다.'}, {'score': 0.026387866586446762, 'token': 6422, 'token_str': '바로', 'sequence': '한국의 제일 남쪽에 있는 섬은 바로 이다.'}, {'score': 0.020353641360998154, 'token': 9268, 'token_str': '제주도', 'sequence': '한국의 제일 남쪽에 있는 섬은 제주도 이다.'}]\n"
     ]
    }
   ],
   "source": [
    "print(fill_mask(\"한국의 제일 남쪽에 있는 섬은 {} 이다.\".format(fill_mask.tokenizer.mask_token)))"
   ],
   "metadata": {
    "collapsed": false,
    "ExecuteTime": {
     "end_time": "2023-07-30T23:56:33.099376700Z",
     "start_time": "2023-07-30T23:56:33.039537400Z"
    }
   }
  },
  {
   "cell_type": "code",
   "execution_count": 5,
   "outputs": [
    {
     "name": "stdout",
     "output_type": "stream",
     "text": [
      "[{'score': 0.15665262937545776, 'token': 8413, 'token_str': '날씨', 'sequence': '날씨 참 좋다.'}, {'score': 0.04122032970190048, 'token': 7665, 'token_str': '기분', 'sequence': '기분 참 좋다.'}, {'score': 0.037714634090662, 'token': 6451, 'token_str': '오늘', 'sequence': '오늘 참 좋다.'}, {'score': 0.032716330140829086, 'token': 146, 'token_str': '“', 'sequence': '“ 참 좋다.'}, {'score': 0.031910490244627, 'token': 6489, 'token_str': '그래서', 'sequence': '그래서 참 좋다.'}]\n"
     ]
    }
   ],
   "source": [
    "print(fill_mask(\"{} 참 좋다.\".format(fill_mask.tokenizer.mask_token)))"
   ],
   "metadata": {
    "collapsed": false,
    "ExecuteTime": {
     "end_time": "2023-07-30T23:59:04.191309400Z",
     "start_time": "2023-07-30T23:59:04.128478600Z"
    }
   }
  },
  {
   "cell_type": "code",
   "execution_count": 6,
   "outputs": [
    {
     "name": "stdout",
     "output_type": "stream",
     "text": [
      "[{'score': 0.08001817762851715, 'token': 3258, 'token_str': '잘', 'sequence': '잘 풀자.'}, {'score': 0.07481503486633301, 'token': 7128, 'token_str': '일단', 'sequence': '일단 풀자.'}, {'score': 0.05661468580365181, 'token': 3305, 'token_str': '좀', 'sequence': '좀 풀자.'}, {'score': 0.05347518250346184, 'token': 7258, 'token_str': '그럼', 'sequence': '그럼 풀자.'}, {'score': 0.02899177558720112, 'token': 6304, 'token_str': '다시', 'sequence': '다시 풀자.'}]\n"
     ]
    }
   ],
   "source": [
    "print(fill_mask(\"{} 풀자.\".format(fill_mask.tokenizer.mask_token)))"
   ],
   "metadata": {
    "collapsed": false,
    "ExecuteTime": {
     "end_time": "2023-07-30T23:59:41.430636400Z",
     "start_time": "2023-07-30T23:59:41.363815500Z"
    }
   }
  },
  {
   "cell_type": "markdown",
   "source": [
    "### Text generation"
   ],
   "metadata": {
    "collapsed": false
   }
  },
  {
   "cell_type": "code",
   "execution_count": 26,
   "outputs": [
    {
     "name": "stderr",
     "output_type": "stream",
     "text": [
      "Special tokens have been added in the vocabulary, make sure the associated word embeddings are fine-tuned or trained.\n",
      "A matching Triton is not available, some optimizations will not be enabled.\n",
      "Error caught was: No module named 'triton'\n"
     ]
    },
    {
     "data": {
      "text/plain": "[{'generated_text': '근육이 커지기 위해서는 수분 함량도 중요하다는 연구 결과가 나왔다.\\n조윤선 서울대 보건대학원 교수가 서울대에 제출한 논문에 따르면 수면장애는 수면의 질을 결정하는 주요 척도 중 하나다.\\n수면 상태에 따라 수면의 질이 달라지기 때문이다.\\n수면의 질이 떨어지면 혈액 속 비타민D 수치가 줄어 수면의 질을 떨어뜨린다.\\n조 교수는 “과거 연구에서는 수면 장애가 뇌의 신경세포에서 분비되는 것을 확인했지만 이번 연구는 뇌 내에서 생성되는 영양 의도가 뇌에 있음을 확인한 것”이라고 했다.\\n영양 부족으로 수면 시간이 길어질 경우 뇌에 있는 에너지 대사량이 떨어지면서 영양 결핍상태가 될 수놀이의 발생이 많아질 수 있다.\\n조 교수는 “미래에 생길 수'}]"
     },
     "execution_count": 26,
     "metadata": {},
     "output_type": "execute_result"
    }
   ],
   "source": [
    "generator = pipeline(\"text-generation\", model=\"skt/kogpt2-base-v2\")\n",
    "generator(\n",
    "    \"근육이 커지기 위해서는\",\n",
    "    max_length=128,\n",
    "    num_return_sequences=1,\n",
    ")"
   ],
   "metadata": {
    "collapsed": false,
    "ExecuteTime": {
     "end_time": "2023-07-30T01:39:02.051694300Z",
     "start_time": "2023-07-30T01:38:49.796993600Z"
    }
   }
  },
  {
   "cell_type": "code",
   "execution_count": 27,
   "outputs": [
    {
     "data": {
      "text/plain": "[{'generated_text': '피부의 조직이 괴사된다면 염증성 장질환으로 나타날 수 있다.\\n특히 장염은 급성 장폐색일 경우 사망에 이를 수 있으며, 특히 어린 자녀를 둔 부모에게서 더 큰 원인으로 지목된다.\\n장폐색은 만성 염증성 장질환으로 진행속도가 빠르며 진행 속도가 빨라지면 사망률이 높아진다.\\n따라서 증상이 발생한 환자일수록 조기 치료가 중요하다.\\n하지만 치료시기를 놓치면 초기 치료가 어려워, 조기 발견에 실패할 수 있어 각별한 주의가 필요하다.\\n또한 장막염 치료는 치료효과가 뛰어나지만 세균학적 염증반응이 있는 경우에는 약물 치료가 필요하다.\\n실제로 장폐색을 발생시키는 주요 원인 중 하나인 포름알데하이드와 그 사이에 존재하는'}]"
     },
     "execution_count": 27,
     "metadata": {},
     "output_type": "execute_result"
    }
   ],
   "source": [
    "generator(\n",
    "    \"피부의 조직이 괴사된다면\",\n",
    "    max_length=128,\n",
    "    num_return_sequences=1,\n",
    ")"
   ],
   "metadata": {
    "collapsed": false,
    "ExecuteTime": {
     "end_time": "2023-07-30T01:39:15.038968Z",
     "start_time": "2023-07-30T01:39:06.704253300Z"
    }
   }
  },
  {
   "cell_type": "code",
   "execution_count": 28,
   "outputs": [
    {
     "data": {
      "text/plain": "[{'generated_text': '가장 좋은 건강법은 무엇일까?\\n당뇨병 고혈압 당뇨 고혈압 당뇨병의 초기 증상으로는 우선 식이요법과 규칙적인 운동, 적당한 운동을 꼽을 수 있다.\\n과거는 운동만 했다면 지금의 운동량은 거의 없고 근력과 척추, 골밀도까지 높여준다는 사실이 통설이지만, 최근에는 운동량이 점점 늘고 있으며 그에 따른 운동능력 향상도 괄목할만한 성과를 내고 있다.\\n운동량이 증가함에 따라 당뇨병 치료 효과도 점점 높아지고 있다.\\n현재 당뇨병 치료는 인슐린 내성을 유발하는 당뇨병 약물을 배제하는 방식으로 진행됐으나, 최근에는 인슐린을 선택적으로 파괴하지 않는 인슐린 내성을 유도한 인슐린을 선택적으로 전환하는 개량된 인슐린 치료법으로 치료 범위가 넓'}]"
     },
     "execution_count": 28,
     "metadata": {},
     "output_type": "execute_result"
    }
   ],
   "source": [
    "generator(\n",
    "    \"가장 좋은 건강법은\",\n",
    "    max_length=128,\n",
    "    num_return_sequences=1,\n",
    ")"
   ],
   "metadata": {
    "collapsed": false,
    "ExecuteTime": {
     "end_time": "2023-07-30T01:39:26.753646200Z",
     "start_time": "2023-07-30T01:39:17.437557100Z"
    }
   }
  },
  {
   "cell_type": "code",
   "execution_count": 29,
   "outputs": [
    {
     "data": {
      "text/plain": "[{'generated_text': \"가장 좋은 한국어 문장 생성 언어 모델은 다음과사건의 의미구조를 나타낸 것으로써 언어, 행동, 기능, 행동 및 사회적 요소들, 사회성, 의미 그리고 심리학적 요소의 분포를 나타낸 것이다.\\n이러한 한국어 표기는 언어 표기와는 상관없이 한국어 문장이 생성되고 배열됨을 시사한다.\\n특히 '다문화 사회'와 '다문화 사회'를 비교해보면 다문화 사회에서의 국어 문법적 구조의 차이를 뚜렷하게 파악할 수 있는데, 이것은 이미 언어 표현 과정에서 언어의 형태 변화에 큰 영향을 미치지 않을 것으로 보인다.\\n그리고 언어와 심리적 형태변동이 서로 밀접하게 연관되어 있기 때문에 언어의 형태 변동은 사회적 맥락, 사회적 맥락, 사회적 작용, 경제적 환경요소들이 서로 상호작용하는 관계를 이해하는 데 중요하다.\\n그러나 언어\"}]"
     },
     "execution_count": 29,
     "metadata": {},
     "output_type": "execute_result"
    }
   ],
   "source": [
    "generator(\n",
    "    \"가장 좋은 한국어 문장 생성 언어 모델은\",\n",
    "    max_length=128,\n",
    "    num_return_sequences=1,\n",
    ")"
   ],
   "metadata": {
    "collapsed": false,
    "ExecuteTime": {
     "end_time": "2023-07-30T01:40:12.284044Z",
     "start_time": "2023-07-30T01:40:04.358237500Z"
    }
   }
  },
  {
   "cell_type": "markdown",
   "source": [
    "### Question Answering"
   ],
   "metadata": {
    "collapsed": false
   }
  },
  {
   "cell_type": "code",
   "execution_count": null,
   "outputs": [],
   "source": [
    "from transformers import pipeline\n",
    "ckpt=\"chunwoolee0/roberta-keti-air-korquad\"\n",
    "question_answerer = pipeline(\"question-answering\", model=ckpt)"
   ],
   "metadata": {
    "collapsed": false
   }
  },
  {
   "cell_type": "code",
   "execution_count": null,
   "outputs": [],
   "source": [
    "question=\"2009년에 열린 제 6회 한국대중음악상에서 버벌진트가 '누명'으로 받은 상은 무엇인가?\"\n",
    "context=\"《누명》은 음악취향 Y의 2008년 올해의 앨범 BEST 10에서 높은 득표율로 1위를 차지했다. 또한, 차우진·강일권·최민우 등 13명의 음악 평론가들이 뽑은 올해의 음반 순위에서 유일한 힙합 음반으로 5위를 기록하기도 했으며, 강명석 등의 평론가들이 선정한 '올해의 묻히기 아까운 음반'에 뽑히기도 했다. 이 앨범은 2009년에 열린 제 6회 한국대중음악상에서 최우수 힙합 음반상을 수상하는 영예를 안았다. 버벌진트에게 씌어진 누명을 벗겨내며 그가 지닌 힙합씬을 바라보는 날카로운 시선을 음악을 통해 훌륭하게 풀어내었다고 평가받은 《누명》은 대중음악 웹진 백비트가 선정한 2000년대 베스트 음반 100개 중 한국 26위에 오르기도 했다.\"\n",
    "question_answerer(question=question, context=context)"
   ],
   "metadata": {
    "collapsed": false
   }
  },
  {
   "cell_type": "code",
   "execution_count": null,
   "outputs": [],
   "source": [
    "question=\"1990년 당시 온 트랙 프로그램의 후원사는 어디였나?\"\n",
    "context=\"1990년대 전체에 걸쳐, 여성회는 '온 트랙(ON TRACK)'과 같은 방과후 멘토 프로그램을 제공한다. 온 트랙은 '조직화(Organizing), 양육(Nurturing), 팀 구성(Team building), 존중(Respecting), 성취(Achieving), 상담(Counseling), 배움(Knowing)'의 약자로서, 낙제 위험에 있는 3학년 학생 2만명의 학업을 돕기 위해 고안된 것이다. 온 트랙은 다임러 크라이슬러의 후원을 받으면서 '의사소통, 학업, 신체적 정신적 건강, 통솔력, 예절, 인간 관계' 측면을 향상시키도록 주문받았다. 한편, P.I.M.S는 수학과 과학에 초점을 맞추었고, 아이비 읽기 아카데미이나 어린이 작가 프로그램과 같은 프로그램들은 초등학교 읽기 이해능력을 향상시킨데 주안점을 두었다.\"\n",
    "question_answerer(question=question, context=context)"
   ],
   "metadata": {
    "collapsed": false
   }
  },
  {
   "cell_type": "code",
   "execution_count": null,
   "outputs": [],
   "source": [
    "question = \"유전의 특서으로 분자 규모의 유전 정보로 기록데, 후 세대로 전해지는 것은?\"\n",
    "context = \"유전되는 특성은 DNA에서 분자 규모의 유전 정보로 기록되어 세대에서 세대로 전해진다. 네 종류의 뉴클레오타이드를 기반으로 하는 중합체인 DNA는 유전 정보를 담는 유전자를 이룬다. 세포 내에서 유전자들은 염색체 단위로 존재한다. 개체 간의 서로 다른 DNA 염기 서열은 서로 다른 유전자를 만들게 되고, 서로 다른 유전자는 결국 서로 다른 유전적 특성을 만들게 된다. DNA 서열에서 같은 위치에 놓이는 서로 다른 뉴클레오타이드 서열은 결국 각각의 개체들이 다양한 유전적 특성을 지니게 한다. 이와 같은 유전적 특성을 대립형질이라 한다. 멘델의 유전법칙은 완두콩의 대립형질을 관찰하여 발견한 것이다. 대립형질은 진화의 주요한 요소의 하나이다.\"\n",
    "question_answerer(question=question, context=context)"
   ],
   "metadata": {
    "collapsed": false
   }
  },
  {
   "cell_type": "markdown",
   "source": [
    "### Translation\n",
    "From english to korean"
   ],
   "metadata": {
    "collapsed": false
   }
  },
  {
   "cell_type": "code",
   "execution_count": null,
   "outputs": [],
   "source": [
    "\n",
    "from transformers import pipeline\n",
    "\n",
    "translator = pipeline(\"translation\", model=\"chunwoolee0/circulus-kobart-en-to-ko\")\n",
    "translator(\"This course is produced by Hugging Face.\")"
   ],
   "metadata": {
    "collapsed": false
   }
  },
  {
   "cell_type": "code",
   "execution_count": null,
   "outputs": [],
   "source": [],
   "metadata": {
    "collapsed": false
   }
  },
  {
   "cell_type": "code",
   "execution_count": null,
   "outputs": [],
   "source": [
    "translator(\"I ate the breakfast.\")"
   ],
   "metadata": {
    "collapsed": false
   }
  },
  {
   "cell_type": "code",
   "execution_count": null,
   "outputs": [],
   "source": [
    "translator(\"2, 4, 6 etc. are even numbers.\")"
   ],
   "metadata": {
    "collapsed": false
   }
  },
  {
   "cell_type": "code",
   "execution_count": null,
   "outputs": [],
   "source": [
    "translator(\"we will add comprehensive communications and the ability to conduct your entire financial world\")"
   ],
   "metadata": {
    "collapsed": false
   }
  },
  {
   "cell_type": "code",
   "execution_count": null,
   "outputs": [],
   "source": [
    "translator(\"As we can see, using the English tokenizer to preprocess a French sentence results in a lot more tokens, since the tokenizer doesn’t know any French words\")"
   ],
   "metadata": {
    "collapsed": false
   }
  },
  {
   "cell_type": "code",
   "execution_count": null,
   "outputs": [],
   "source": [
    "translator(\"the last step is to define the preprocessing function we will apply on the datasets\")"
   ],
   "metadata": {
    "collapsed": false
   }
  },
  {
   "cell_type": "markdown",
   "source": [
    "### Translation from Korean to English"
   ],
   "metadata": {
    "collapsed": false
   }
  },
  {
   "cell_type": "code",
   "execution_count": null,
   "outputs": [],
   "source": [
    "from transformers import pipeline\n",
    "\n",
    "translator = pipeline(\"translation\", model=\"chunwoolee0/kd4_opus-mt-ko-en\")\n",
    "translator(\"점심 식사 후에 산책가자.\")"
   ],
   "metadata": {
    "collapsed": false
   }
  },
  {
   "cell_type": "code",
   "execution_count": null,
   "outputs": [],
   "source": [
    "translator(\"이 강좌는 허깅페이스가 만든 거야.\")"
   ],
   "metadata": {
    "collapsed": false
   }
  },
  {
   "cell_type": "code",
   "execution_count": null,
   "outputs": [],
   "source": [
    "\n",
    "translator(\"오늘은 늦게 일어났다.\")"
   ],
   "metadata": {
    "collapsed": false
   }
  },
  {
   "cell_type": "markdown",
   "source": [
    "### Text generation using polyglot-ko"
   ],
   "metadata": {
    "collapsed": false
   }
  },
  {
   "cell_type": "code",
   "execution_count": null,
   "outputs": [],
   "source": [
    "import torch\n",
    "from transformers import pipeline\n",
    "\n",
    "generator = pipeline(\"text-generation\", model=\"EleutherAI/polyglot-ko-3.8b\", device=0, torch_dtype=torch.float16)"
   ],
   "metadata": {
    "collapsed": false
   }
  },
  {
   "cell_type": "code",
   "execution_count": null,
   "outputs": [],
   "source": [
    "generator(\n",
    "    \"한강에서 배를 탔다.\",\n",
    "    max_length=30,\n",
    "    num_return_sequences=1,\n",
    ")"
   ],
   "metadata": {
    "collapsed": false
   }
  },
  {
   "cell_type": "code",
   "execution_count": null,
   "outputs": [],
   "source": [
    "generator(\n",
    "    \"남산에서 불꽃놀이를 한다.\",\n",
    "    max_length=60,\n",
    "    num_return_sequences=1,\n",
    ")"
   ],
   "metadata": {
    "collapsed": false
   }
  },
  {
   "cell_type": "code",
   "execution_count": null,
   "outputs": [],
   "source": [
    "generator(\n",
    "    \"영화 어땠어?\",\n",
    "    max_length=60,\n",
    "    num_return_sequences=1,\n",
    ")"
   ],
   "metadata": {
    "collapsed": false
   }
  },
  {
   "cell_type": "code",
   "execution_count": null,
   "outputs": [],
   "source": [
    "generator(\n",
    "    \"아침 식사 후에 뭐 했니?\",\n",
    "    max_length=60,\n",
    "    num_return_sequences=1,\n",
    ")"
   ],
   "metadata": {
    "collapsed": false
   }
  },
  {
   "cell_type": "code",
   "execution_count": null,
   "outputs": [],
   "source": [
    "generator(\n",
    "    \"건강에 좋은 음식 좀 알려 줘.\",\n",
    "    max_length=60,\n",
    "    num_return_sequences=1,\n",
    ")"
   ],
   "metadata": {
    "collapsed": false
   }
  },
  {
   "cell_type": "code",
   "execution_count": null,
   "outputs": [],
   "source": [
    "pipe(\"안녕\")"
   ],
   "metadata": {
    "collapsed": false
   }
  },
  {
   "cell_type": "code",
   "execution_count": null,
   "outputs": [],
   "source": [
    "pipe(\"커피 한 잔\")"
   ],
   "metadata": {
    "collapsed": false
   }
  },
  {
   "cell_type": "code",
   "execution_count": null,
   "outputs": [],
   "source": [
    "pipe(\"저녁\")"
   ],
   "metadata": {
    "collapsed": false
   }
  },
  {
   "cell_type": "code",
   "execution_count": null,
   "outputs": [],
   "source": [
    "pipe('인간처럼 생각하고, 행동하는 \\'지능\\'을 통해 인류가 이제까지 풀지 못했던')"
   ],
   "metadata": {
    "collapsed": false
   }
  },
  {
   "cell_type": "markdown",
   "source": [
    "### Summarization"
   ],
   "metadata": {
    "collapsed": false
   }
  },
  {
   "cell_type": "code",
   "execution_count": 1,
   "outputs": [
    {
     "name": "stderr",
     "output_type": "stream",
     "text": [
      "[nltk_data] Downloading package punkt to\n",
      "[nltk_data]     C:\\Users\\clee\\AppData\\Roaming\\nltk_data...\n",
      "[nltk_data]   Package punkt is already up-to-date!\n"
     ]
    },
    {
     "name": "stdout",
     "output_type": "stream",
     "text": [
      "국립수산과학원 측은 남대서양에 홍어가 많이 살고 아르헨티나를 비롯한 남미 국가에서 홍어가 많이 잡힌다고 설명했지만 관세청에 따르면 한국에 수리남산 홍어가 수입된 적은 없다.\n"
     ]
    }
   ],
   "source": [
    "from transformers import AutoTokenizer, AutoModelForSeq2SeqLM\n",
    "import nltk\n",
    "nltk.download('punkt')\n",
    "\n",
    "model_dir = \"lcw99/t5-base-korean-text-summary\"\n",
    "tokenizer = AutoTokenizer.from_pretrained(model_dir)\n",
    "model = AutoModelForSeq2SeqLM.from_pretrained(model_dir)\n",
    "\n",
    "max_input_length = 512\n",
    "\n",
    "text = \"\"\"\n",
    "주인공 강인구(하정우)는 ‘수리남에서 홍어가 많이 나는데 다 갖다버린다’는 친구\n",
    "박응수(현봉식)의 얘기를 듣고 수리남산 홍어를 한국에 수출하기 위해 수리남으로 간다.\n",
    "국립수산과학원 측은 “실제로 남대서양에 홍어가 많이 살고 아르헨티나를 비롯한 남미 국가에서 홍어가 많이 잡힌다”며\n",
    "“수리남 연안에도 홍어가 많이 서식할 것”이라고 설명했다.\n",
    "\n",
    "그러나 관세청에 따르면 한국에 수리남산 홍어가 수입된 적은 없다.\n",
    "일각에선 “돈을 벌기 위해 수리남산 홍어를 구하러 간 설정은 개연성이 떨어진다”는 지적도 한다.\n",
    "드라마 배경이 된 2008~2010년에는 이미 국내에 아르헨티나, 칠레, 미국 등 아메리카산 홍어가 수입되고 있었기 때문이다.\n",
    "실제 조봉행 체포 작전에 협조했던 ‘협력자 K씨’도 홍어 사업이 아니라 수리남에 선박용 특수용접봉을 파는 사업을 하러 수리남에 갔었다.\n",
    "\"\"\"\n",
    "\n",
    "inputs = [\"summarize: \" + text]\n",
    "\n",
    "inputs = tokenizer(inputs, max_length=max_input_length, truncation=True, return_tensors=\"pt\")\n",
    "output = model.generate(**inputs, num_beams=8, do_sample=True, min_length=10, max_length=100)\n",
    "decoded_output = tokenizer.batch_decode(output, skip_special_tokens=True)[0]\n",
    "predicted_title = nltk.sent_tokenize(decoded_output.strip())[0]\n",
    "\n",
    "print(predicted_title)"
   ],
   "metadata": {
    "collapsed": false,
    "ExecuteTime": {
     "end_time": "2023-08-13T13:21:17.503577500Z",
     "start_time": "2023-08-13T13:20:23.097319600Z"
    }
   }
  },
  {
   "cell_type": "code",
   "execution_count": 11,
   "outputs": [
    {
     "data": {
      "text/plain": "Downloading (…)okenizer_config.json:   0%|          | 0.00/209 [00:00<?, ?B/s]",
      "application/vnd.jupyter.widget-view+json": {
       "version_major": 2,
       "version_minor": 0,
       "model_id": "5cce7af4827d42c88634af66e28dd16c"
      }
     },
     "metadata": {},
     "output_type": "display_data"
    },
    {
     "name": "stderr",
     "output_type": "stream",
     "text": [
      "C:\\Users\\clee\\venv10\\lib\\site-packages\\huggingface_hub\\file_download.py:133: UserWarning: `huggingface_hub` cache-system uses symlinks by default to efficiently store duplicated files but your machine does not support them in C:\\Users\\clee\\.cache\\huggingface\\hub. Caching files will still work but in a degraded version that might require more space on your disk. This warning can be disabled by setting the `HF_HUB_DISABLE_SYMLINKS_WARNING` environment variable. For more details, see https://huggingface.co/docs/huggingface_hub/how-to-cache#limitations.\n",
      "To support symlinks on Windows, you either need to activate Developer Mode or to run Python as an administrator. In order to see activate developer mode, see this article: https://docs.microsoft.com/en-us/windows/apps/get-started/enable-your-device-for-development\n",
      "  warnings.warn(message)\n"
     ]
    },
    {
     "data": {
      "text/plain": "Downloading (…)/main/tokenizer.json:   0%|          | 0.00/2.90M [00:00<?, ?B/s]",
      "application/vnd.jupyter.widget-view+json": {
       "version_major": 2,
       "version_minor": 0,
       "model_id": "aeaf4f9bdac440abad5b862717f2ce75"
      }
     },
     "metadata": {},
     "output_type": "display_data"
    },
    {
     "data": {
      "text/plain": "Downloading (…)cial_tokens_map.json:   0%|          | 0.00/67.0 [00:00<?, ?B/s]",
      "application/vnd.jupyter.widget-view+json": {
       "version_major": 2,
       "version_minor": 0,
       "model_id": "83c7b9e8399549de96645f58420c1371"
      }
     },
     "metadata": {},
     "output_type": "display_data"
    },
    {
     "name": "stderr",
     "output_type": "stream",
     "text": [
      "Special tokens have been added in the vocabulary, make sure the associated word embeddings are fine-tuned or trained.\n"
     ]
    },
    {
     "data": {
      "text/plain": "Downloading (…)lve/main/config.json:   0%|          | 0.00/728 [00:00<?, ?B/s]",
      "application/vnd.jupyter.widget-view+json": {
       "version_major": 2,
       "version_minor": 0,
       "model_id": "92dcfba5c12d4d6ab835ee432e2f09b2"
      }
     },
     "metadata": {},
     "output_type": "display_data"
    },
    {
     "data": {
      "text/plain": "Downloading pytorch_model.bin:   0%|          | 0.00/1.10G [00:00<?, ?B/s]",
      "application/vnd.jupyter.widget-view+json": {
       "version_major": 2,
       "version_minor": 0,
       "model_id": "3405806d93184dd18395f07dd268166e"
      }
     },
     "metadata": {},
     "output_type": "display_data"
    }
   ],
   "source": [
    "from transformers import T5TokenizerFast, T5ForConditionalGeneration\n",
    "\n",
    "tokenizer = T5TokenizerFast.from_pretrained('paust/pko-t5-base')\n",
    "model = T5ForConditionalGeneration.from_pretrained('paust/pko-t5-base')"
   ],
   "metadata": {
    "collapsed": false,
    "ExecuteTime": {
     "end_time": "2023-08-13T13:54:37.233658100Z",
     "start_time": "2023-08-13T13:51:18.593716200Z"
    }
   }
  },
  {
   "cell_type": "code",
   "execution_count": null,
   "outputs": [],
   "source": [
    "import nltk\n",
    "nltk.download('punkt')\n",
    "inputs = [\"summarize: \" + text]\n",
    "\n",
    "inputs = tokenizer(inputs, max_length=max_input_length, truncation=True, return_tensors=\"pt\")\n",
    "output = model.generate(**inputs, num_beams=8, do_sample=True, min_length=10,max_length=128)\n",
    "decoded_output = tokenizer.batch_decode(output, skip_special_tokens=True)[0]\n",
    "# print(decoded_output)\n",
    "predicted_title = nltk.sent_tokenize(decoded_output.strip())[0]\n",
    "\n",
    "print(predicted_title)"
   ],
   "metadata": {
    "collapsed": false
   }
  },
  {
   "cell_type": "code",
   "execution_count": 2,
   "outputs": [],
   "source": [
    "text='양규원 이봉운 고양 제2부시장. 사진=연합 지방선거 \\'관권개입\\' 의혹과 3기 신도시 반대 입장 등으로 논란을 일으킨 뒤 기자회견을 통해 거짓 해명을 했다는 지적을 받고 있는 이봉운 고양시 제2부시장이 사표를 제출, 배경에 관심이 쏠리고 있다. 20일 고양시에 따르면 이 부시장은 이날 오전 \\'일신상의 이유\\'를 근거로 시에 사표를 제출했다. 이 부시장은 지난 2017년 10월 전임 최성 시장 재임 당시 2년 임기제로 채용돼 오는 9월 말로 예정된 임기만료를 불과 4개월 앞두고 사표를 제출한 것이다. 이 부시장이 사의를 표명한 것은 최근 3기 신도시에 대한 불만 표출, 6.13 지방선거 당시 이 시장을 지지한 상황에 대한 관권선거 의혹 등에다 줄곧 제기된 \\'이재준 시장과의 불화설\\' 등이 겹쳤기 때문인 것으로 지역 정계는 보고 있다. 특히 이 같은 내용이 일부 인터넷 언론을 통해 퍼지자 지난 14일 기자회견을 열고 \"해당 내용은 사실이 아니다. 가짜뉴스에 강력하게 대응하겠다\"고 주장했으나 \\'거짓 해명\\'이라는 비판에 직면하자 이날 오후 갑작스레 휴가를 신청하기도 했다. 시 관계자는 \"이 부시장이 20일 오전 사표를 제출했다\"면서 \"관련 절차가 남아 있기 때문에 당장 사표가 수리되는 것은 아니다\"고 밝혔다. 이에 대해 이 부시장은 \"임기를 4개월 앞두고 퇴임하게 돼 시민과 시 직원여러분께 송구스럽다\"면서도 \"제3기 신도시 발표로 지역간 주민 갈등이 표출되며 고양시 도시기능이 베드타운으로 고착화되는 것이 아닌가 하는 안타깝다\"고 말했다. 특히 \"100년대계를 바라보는 도시발전을 위해 시가 지향해야 할 방향과 목표를 잘 알고 있기에 제3시 신도시 건설의 문제점을 이야기한 소신에는 지금도 변함이 없다\"고 강조했다.'"
   ],
   "metadata": {
    "collapsed": false,
    "ExecuteTime": {
     "end_time": "2023-08-13T13:21:26.665879900Z",
     "start_time": "2023-08-13T13:21:26.623992100Z"
    }
   }
  },
  {
   "cell_type": "code",
   "execution_count": 3,
   "outputs": [],
   "source": [
    "from transformers import pipeline\n",
    "\n",
    "# model_ckpt = \"chunwoolee0/ke_t5_base_aihub\"\n",
    "model_ckpt = \"KETI-AIR/long-ke-t5-base\"\n",
    "summarizer = pipeline(\"summarization\", model=model_ckpt)"
   ],
   "metadata": {
    "collapsed": false,
    "ExecuteTime": {
     "end_time": "2023-08-13T13:21:35.716725Z",
     "start_time": "2023-08-13T13:21:27.768929100Z"
    }
   }
  },
  {
   "cell_type": "code",
   "execution_count": 6,
   "outputs": [
    {
     "data": {
      "text/plain": "[{'summary_text': '이 부시장은 지난 2017년 10월부터 2년 임기제로 채용돼 오는 9월 말로 예정된 임기만료를 불과 4개월 앞두고 사표를 제출했다.'}]"
     },
     "execution_count": 6,
     "metadata": {},
     "output_type": "execute_result"
    }
   ],
   "source": [
    "summarizer(\"summarize_text: \" + text,max_length=100)"
   ],
   "metadata": {
    "collapsed": false,
    "ExecuteTime": {
     "end_time": "2023-08-13T13:23:03.465740500Z",
     "start_time": "2023-08-13T13:22:57.827818600Z"
    }
   }
  },
  {
   "cell_type": "code",
   "execution_count": 7,
   "outputs": [],
   "source": [
    "from transformers import AutoTokenizer\n",
    "model_ckpt = \"KETI-AIR/long-ke-t5-base\"\n",
    "tokenizer = AutoTokenizer.from_pretrained(model_ckpt)\n",
    "inputs = tokenizer(text, return_tensors=\"pt\").input_ids"
   ],
   "metadata": {
    "collapsed": false,
    "ExecuteTime": {
     "end_time": "2023-08-13T13:23:16.508055900Z",
     "start_time": "2023-08-13T13:23:16.112115100Z"
    }
   }
  },
  {
   "cell_type": "code",
   "execution_count": 8,
   "outputs": [
    {
     "data": {
      "text/plain": "'이 부시장은 지난 2017년 10월부터 2년 임기제로 채용돼 오는 9월 말 임기만료를 불과 4개월 앞두고 사표를 제출했다.'"
     },
     "execution_count": 8,
     "metadata": {},
     "output_type": "execute_result"
    }
   ],
   "source": [
    "from transformers import AutoModelForSeq2SeqLM\n",
    "\n",
    "model = AutoModelForSeq2SeqLM.from_pretrained(model_ckpt)\n",
    "outputs = model.generate(inputs, max_new_tokens=100, do_sample=False)\n",
    "tokenizer.decode(outputs[0], skip_special_tokens=True)"
   ],
   "metadata": {
    "collapsed": false,
    "ExecuteTime": {
     "end_time": "2023-08-13T13:23:32.357030500Z",
     "start_time": "2023-08-13T13:23:22.503385300Z"
    }
   }
  },
  {
   "cell_type": "code",
   "execution_count": 9,
   "outputs": [],
   "source": [
    "text = \"summarize_topic: “처음에는 ‘금방 끝나겠지’라고 생각했는데 어느덧 100일이 됐네요. \\\n",
    "    그동안 춥고 아프고 힘들었지만 인간으로서 대우를 받을 수만 있다면 끝까지 버틸 수 있습니다.” \\\n",
    "    LG트윈타워 청소 노동자들이 고용승계를 주장하며 파업에 나선지 100일째를 하루 앞둔 24일 \\\n",
    "    서울 여의도 LG트윈타워 앞 ‘행복한 고용승계 텐트촌’에서 만난 박상설(63)씨는 힘들었던 투쟁 과정을 \\\n",
    "    회상하며 눈시울을 붉혔다. 박씨는 2017년부터 LG트윈타워에서 청소 노동을 했지만 지난 1월 1일부로 \\\n",
    "    계약이 종료돼 직장을 떠났다. 자동차 소음과 불편한 잠자리로 텐트에서 매일 밤잠을 설치지만 투쟁을 \\\n",
    "    포기할 수 없다고 한다. 그는 “LG가 그동안 사회적 책임과 정도경영을 강조해 왔기에 파업이 금방 끝날 \\\n",
    "    줄 알았다”며 “버티지 못하고 점점 떠나는 동지들을 바라볼 때마다 마음이 아프지만 정당한 노동 권리를 \\\n",
    "    인정받기 위해 끝까지 투쟁할 것”이라고 강조했다. 지난해 11월 26일부터 파업에 돌입한 청소 \\\n",
    "    노동자들은 25일 파업 100일째를 맞는다. 건물 1층 로비에서 시위를 하던 25명의 청소 노동자들은 지난 \\\n",
    "    22일부터 정문 앞 도보에 텐트촌을 설치하고 장소를 옮겼다. 파업 100일에 맞춰 25일까지 시민연대와 \\\n",
    "    함께 텐트 100개를 설치하고 주·야간 연대 시위를 이어가겠다는 뜻에서다. 노동자들은 한 명이 간신히 \\\n",
    "    누울 수 있는 크기의 텐트 안에서 딱딱한 시멘트 바닥에 몸을 기대 쪽잠을 청하고 있다. LG트윈타워를 \\\n",
    "    관리하는 LG그룹 계열사 ‘에스엔아이코퍼레이션’은 지난해 말 ‘지수아이앤씨’와 청소 용역 계약을 \\\n",
    "    끝내고 다른 업체와 새로 계약했다. 사측은 ‘품질 저하’를 이유로 들었다. 반면 노동자들은 2019년 \\\n",
    "    노조를 결성하고 권리를 주장하기 시작하면서 사측 눈 밖에 났다고 주장한다. 그동안 업체가 \\\n",
    "    변경되더라도 기존 업체 노동자들이 새 업체에 고용승계가 되는 게 관례였지만 새 업체는 고용승계를 \\\n",
    "    보장할 수 없다고 밝혔다. 지난달까지 고용노동부 중재로 수차례 노사 교섭이 있었지만 상황은 달라지지 \\\n",
    "    않았다. 사측은 대신 노동자들에게 다른 사업장에서 일을 하게 해주겠다고 권유했다. 하지만 노동자들은 \\\n",
    "    노조를 인정하지 않는 대기업의 행태를 묵인한 채 사측의 권유에 따른다면 어느 사업장에서 일을 하던 \\\n",
    "    똑같은 행태가 반복될 수밖에 없다고 목소리를 높인다. 때문에 반드시 LG트윈타워에서 정당한 권리를 \\\n",
    "    인정받고 노동을 이어가야만 한다고 말한다. 이들은 구광모 LG그룹 회장이 나서 문제를 해결해야 한다고 \\\n",
    "    주장한다. 이혜정 LG트윈타워 공동대책위원회 집행위원은 “구 회장이 책임있는 답변을 내놓을 때까지 \\\n",
    "    시민사회 단위와 함께 결의를 담아 끝까지 텐트촌을 유지할 것”이라고 강조했다.\""
   ],
   "metadata": {
    "collapsed": false,
    "ExecuteTime": {
     "end_time": "2023-08-13T13:23:34.939045200Z",
     "start_time": "2023-08-13T13:23:34.876216200Z"
    }
   }
  },
  {
   "cell_type": "code",
   "execution_count": 10,
   "outputs": [
    {
     "data": {
      "text/plain": "'LG트윈타워 청소 노동자들이 25일 파업 100일째를 맞는다.'"
     },
     "execution_count": 10,
     "metadata": {},
     "output_type": "execute_result"
    }
   ],
   "source": [
    "inputs = tokenizer(text, return_tensors=\"pt\").input_ids\n",
    "outputs = model.generate(inputs, max_new_tokens=100, do_sample=False)\n",
    "tokenizer.decode(outputs[0], skip_special_tokens=True)"
   ],
   "metadata": {
    "collapsed": false,
    "ExecuteTime": {
     "end_time": "2023-08-13T13:23:41.451626600Z",
     "start_time": "2023-08-13T13:23:36.749203500Z"
    }
   }
  },
  {
   "cell_type": "code",
   "execution_count": null,
   "outputs": [],
   "source": [],
   "metadata": {
    "collapsed": false
   }
  }
 ],
 "metadata": {
  "kernelspec": {
   "display_name": "Python 3",
   "language": "python",
   "name": "python3"
  },
  "language_info": {
   "codemirror_mode": {
    "name": "ipython",
    "version": 2
   },
   "file_extension": ".py",
   "mimetype": "text/x-python",
   "name": "python",
   "nbconvert_exporter": "python",
   "pygments_lexer": "ipython2",
   "version": "2.7.6"
  }
 },
 "nbformat": 4,
 "nbformat_minor": 0
}
